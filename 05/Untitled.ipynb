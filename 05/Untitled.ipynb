{
 "cells": [
  {
   "cell_type": "code",
   "execution_count": null,
   "metadata": {},
   "outputs": [],
   "source": [
    "############################\n",
    "####### ЛОГИРОВАНИЕ ########\n",
    "############################"
   ]
  },
  {
   "cell_type": "code",
   "execution_count": 1,
   "metadata": {},
   "outputs": [],
   "source": [
    "import logging"
   ]
  },
  {
   "cell_type": "code",
   "execution_count": 15,
   "metadata": {},
   "outputs": [],
   "source": [
    "logging.basicConfig(\n",
    "    #filename = 'app.log', - если логер не на всю программу\n",
    "    format = '%(levelname)-10s %(asctime)s %(message)s',\n",
    "    #level = logging.CRITICAL\n",
    "    level = logging.INFO\n",
    ")"
   ]
  },
  {
   "cell_type": "code",
   "execution_count": 24,
   "metadata": {},
   "outputs": [],
   "source": [
    "# ДЛЯ DJANGO\n",
    "def install_logs():\n",
    "    #log = logging.getLogger(app.log) - есили логер не на всю программу\n",
    "    log = logging.getLogger()\n",
    "    if not config.debug:\n",
    "        log.setLevel(logging.ERROR)\n",
    "    else:\n",
    "        log.setLevel(logging.DEBUG)"
   ]
  },
  {
   "cell_type": "code",
   "execution_count": 34,
   "metadata": {},
   "outputs": [],
   "source": [
    "def send_email(name):\n",
    "    log = logging.getLogger()\n",
    "    #log.critical('Email was sent to the username: ' + name)\n",
    "    #log.info(f'test {name[id]}, {name[username]}')\n",
    "    log.info(f'test {name[\"id\"]}, {name[\"username\"]}'\n",
    "            )\n",
    "    params = {'host': 'www.pp.org',\n",
    "              'port': 80,\n",
    "             }\n",
    "    log.critical(\"Can't connect %(host)s at port %(port)d\", params)"
   ]
  },
  {
   "cell_type": "code",
   "execution_count": 36,
   "metadata": {},
   "outputs": [],
   "source": [
    "###if __name__ == '__main__':\n",
    "send_email({'id': 1, 'username': 'Ivan'})"
   ]
  },
  {
   "cell_type": "code",
   "execution_count": null,
   "metadata": {},
   "outputs": [],
   "source": []
  },
  {
   "cell_type": "code",
   "execution_count": null,
   "metadata": {},
   "outputs": [],
   "source": []
  },
  {
   "cell_type": "code",
   "execution_count": 27,
   "metadata": {},
   "outputs": [],
   "source": [
    "### Второй файл .py"
   ]
  },
  {
   "cell_type": "code",
   "execution_count": 46,
   "metadata": {},
   "outputs": [
    {
     "name": "stderr",
     "output_type": "stream",
     "text": [
      "Creeping death detected!\n"
     ]
    }
   ],
   "source": [
    "import logging\n",
    "import sys\n",
    "\n",
    "#создать регистратор верхнего уровня с именем app\n",
    "app_log = logging.getLogger('app')\n",
    "app_log.setLevel(logging.INFO)\n",
    "app_log.propagate = False\n",
    "\n",
    "#добавить несколько сообщений. Они попадут в файл app.log\n",
    "# и будут выведены в sys.stderr\n",
    "app_log.critical('Creeping death detected!')\n",
    "app_log.info('FYI')"
   ]
  },
  {
   "cell_type": "code",
   "execution_count": null,
   "metadata": {},
   "outputs": [],
   "source": []
  },
  {
   "cell_type": "code",
   "execution_count": null,
   "metadata": {},
   "outputs": [],
   "source": []
  },
  {
   "cell_type": "code",
   "execution_count": 47,
   "metadata": {},
   "outputs": [],
   "source": [
    "#файл 3 \n",
    "# ФОРМАТИРОВАНИЕ"
   ]
  },
  {
   "cell_type": "code",
   "execution_count": 49,
   "metadata": {},
   "outputs": [
    {
     "name": "stderr",
     "output_type": "stream",
     "text": [
      "--- Logging error ---\n",
      "Traceback (most recent call last):\n",
      "  File \"/snap/jupyter/6/lib/python3.7/logging/__init__.py\", line 1034, in emit\n",
      "    msg = self.format(record)\n",
      "  File \"/snap/jupyter/6/lib/python3.7/logging/__init__.py\", line 880, in format\n",
      "    return fmt.format(record)\n",
      "  File \"/snap/jupyter/6/lib/python3.7/logging/__init__.py\", line 622, in format\n",
      "    s = self.formatMessage(record)\n",
      "  File \"/snap/jupyter/6/lib/python3.7/logging/__init__.py\", line 591, in formatMessage\n",
      "    return self._style.format(record)\n",
      "  File \"/snap/jupyter/6/lib/python3.7/logging/__init__.py\", line 433, in format\n",
      "    return self._fmt % record.__dict__\n",
      "KeyError: 'messages'\n",
      "Call stack:\n",
      "  File \"/snap/jupyter/6/lib/python3.7/runpy.py\", line 193, in _run_module_as_main\n",
      "    \"__main__\", mod_spec)\n",
      "  File \"/snap/jupyter/6/lib/python3.7/runpy.py\", line 85, in _run_code\n",
      "    exec(code, run_globals)\n",
      "  File \"/snap/jupyter/6/lib/python3.7/site-packages/ipykernel_launcher.py\", line 16, in <module>\n",
      "    app.launch_new_instance()\n",
      "  File \"/snap/jupyter/6/lib/python3.7/site-packages/traitlets/config/application.py\", line 658, in launch_instance\n",
      "    app.start()\n",
      "  File \"/snap/jupyter/6/lib/python3.7/site-packages/ipykernel/kernelapp.py\", line 505, in start\n",
      "    self.io_loop.start()\n",
      "  File \"/snap/jupyter/6/lib/python3.7/site-packages/tornado/platform/asyncio.py\", line 148, in start\n",
      "    self.asyncio_loop.run_forever()\n",
      "  File \"/snap/jupyter/6/lib/python3.7/asyncio/base_events.py\", line 539, in run_forever\n",
      "    self._run_once()\n",
      "  File \"/snap/jupyter/6/lib/python3.7/asyncio/base_events.py\", line 1775, in _run_once\n",
      "    handle._run()\n",
      "  File \"/snap/jupyter/6/lib/python3.7/asyncio/events.py\", line 88, in _run\n",
      "    self._context.run(self._callback, *self._args)\n",
      "  File \"/snap/jupyter/6/lib/python3.7/site-packages/tornado/ioloop.py\", line 690, in <lambda>\n",
      "    lambda f: self._run_callback(functools.partial(callback, future))\n",
      "  File \"/snap/jupyter/6/lib/python3.7/site-packages/tornado/ioloop.py\", line 743, in _run_callback\n",
      "    ret = callback()\n",
      "  File \"/snap/jupyter/6/lib/python3.7/site-packages/tornado/gen.py\", line 781, in inner\n",
      "    self.run()\n",
      "  File \"/snap/jupyter/6/lib/python3.7/site-packages/tornado/gen.py\", line 742, in run\n",
      "    yielded = self.gen.send(value)\n",
      "  File \"/snap/jupyter/6/lib/python3.7/site-packages/ipykernel/kernelbase.py\", line 365, in process_one\n",
      "    yield gen.maybe_future(dispatch(*args))\n",
      "  File \"/snap/jupyter/6/lib/python3.7/site-packages/tornado/gen.py\", line 209, in wrapper\n",
      "    yielded = next(result)\n",
      "  File \"/snap/jupyter/6/lib/python3.7/site-packages/ipykernel/kernelbase.py\", line 272, in dispatch_shell\n",
      "    yield gen.maybe_future(handler(stream, idents, msg))\n",
      "  File \"/snap/jupyter/6/lib/python3.7/site-packages/tornado/gen.py\", line 209, in wrapper\n",
      "    yielded = next(result)\n",
      "  File \"/snap/jupyter/6/lib/python3.7/site-packages/ipykernel/kernelbase.py\", line 542, in execute_request\n",
      "    user_expressions, allow_stdin,\n",
      "  File \"/snap/jupyter/6/lib/python3.7/site-packages/tornado/gen.py\", line 209, in wrapper\n",
      "    yielded = next(result)\n",
      "  File \"/snap/jupyter/6/lib/python3.7/site-packages/ipykernel/ipkernel.py\", line 294, in do_execute\n",
      "    res = shell.run_cell(code, store_history=store_history, silent=silent)\n",
      "  File \"/snap/jupyter/6/lib/python3.7/site-packages/ipykernel/zmqshell.py\", line 536, in run_cell\n",
      "    return super(ZMQInteractiveShell, self).run_cell(*args, **kwargs)\n",
      "  File \"/snap/jupyter/6/lib/python3.7/site-packages/IPython/core/interactiveshell.py\", line 2848, in run_cell\n",
      "    raw_cell, store_history, silent, shell_futures)\n",
      "  File \"/snap/jupyter/6/lib/python3.7/site-packages/IPython/core/interactiveshell.py\", line 2874, in _run_cell\n",
      "    return runner(coro)\n",
      "  File \"/snap/jupyter/6/lib/python3.7/site-packages/IPython/core/async_helpers.py\", line 67, in _pseudo_sync_runner\n",
      "    coro.send(None)\n",
      "  File \"/snap/jupyter/6/lib/python3.7/site-packages/IPython/core/interactiveshell.py\", line 3049, in run_cell_async\n",
      "    interactivity=interactivity, compiler=compiler, result=result)\n",
      "  File \"/snap/jupyter/6/lib/python3.7/site-packages/IPython/core/interactiveshell.py\", line 3220, in run_ast_nodes\n",
      "    if (yield from self.run_code(code, result)):\n",
      "  File \"/snap/jupyter/6/lib/python3.7/site-packages/IPython/core/interactiveshell.py\", line 3296, in run_code\n",
      "    exec(code_obj, self.user_global_ns, self.user_ns)\n",
      "  File \"<ipython-input-49-9a0d501e8cab>\", line 18, in <module>\n",
      "    log.critical('Orhr! Kernel panic!')\n",
      "Message: 'Orhr! Kernel panic!'\n",
      "Arguments: ()\n",
      "--- Logging error ---\n",
      "Traceback (most recent call last):\n",
      "  File \"/snap/jupyter/6/lib/python3.7/logging/__init__.py\", line 1034, in emit\n",
      "    msg = self.format(record)\n",
      "  File \"/snap/jupyter/6/lib/python3.7/logging/__init__.py\", line 880, in format\n",
      "    return fmt.format(record)\n",
      "  File \"/snap/jupyter/6/lib/python3.7/logging/__init__.py\", line 622, in format\n",
      "    s = self.formatMessage(record)\n",
      "  File \"/snap/jupyter/6/lib/python3.7/logging/__init__.py\", line 591, in formatMessage\n",
      "    return self._style.format(record)\n",
      "  File \"/snap/jupyter/6/lib/python3.7/logging/__init__.py\", line 433, in format\n",
      "    return self._fmt % record.__dict__\n",
      "KeyError: 'messages'\n",
      "Call stack:\n",
      "  File \"/snap/jupyter/6/lib/python3.7/runpy.py\", line 193, in _run_module_as_main\n",
      "    \"__main__\", mod_spec)\n",
      "  File \"/snap/jupyter/6/lib/python3.7/runpy.py\", line 85, in _run_code\n",
      "    exec(code, run_globals)\n",
      "  File \"/snap/jupyter/6/lib/python3.7/site-packages/ipykernel_launcher.py\", line 16, in <module>\n",
      "    app.launch_new_instance()\n",
      "  File \"/snap/jupyter/6/lib/python3.7/site-packages/traitlets/config/application.py\", line 658, in launch_instance\n",
      "    app.start()\n",
      "  File \"/snap/jupyter/6/lib/python3.7/site-packages/ipykernel/kernelapp.py\", line 505, in start\n",
      "    self.io_loop.start()\n",
      "  File \"/snap/jupyter/6/lib/python3.7/site-packages/tornado/platform/asyncio.py\", line 148, in start\n",
      "    self.asyncio_loop.run_forever()\n",
      "  File \"/snap/jupyter/6/lib/python3.7/asyncio/base_events.py\", line 539, in run_forever\n",
      "    self._run_once()\n",
      "  File \"/snap/jupyter/6/lib/python3.7/asyncio/base_events.py\", line 1775, in _run_once\n",
      "    handle._run()\n",
      "  File \"/snap/jupyter/6/lib/python3.7/asyncio/events.py\", line 88, in _run\n",
      "    self._context.run(self._callback, *self._args)\n",
      "  File \"/snap/jupyter/6/lib/python3.7/site-packages/tornado/ioloop.py\", line 690, in <lambda>\n",
      "    lambda f: self._run_callback(functools.partial(callback, future))\n",
      "  File \"/snap/jupyter/6/lib/python3.7/site-packages/tornado/ioloop.py\", line 743, in _run_callback\n",
      "    ret = callback()\n",
      "  File \"/snap/jupyter/6/lib/python3.7/site-packages/tornado/gen.py\", line 781, in inner\n",
      "    self.run()\n",
      "  File \"/snap/jupyter/6/lib/python3.7/site-packages/tornado/gen.py\", line 742, in run\n",
      "    yielded = self.gen.send(value)\n",
      "  File \"/snap/jupyter/6/lib/python3.7/site-packages/ipykernel/kernelbase.py\", line 365, in process_one\n",
      "    yield gen.maybe_future(dispatch(*args))\n",
      "  File \"/snap/jupyter/6/lib/python3.7/site-packages/tornado/gen.py\", line 209, in wrapper\n",
      "    yielded = next(result)\n",
      "  File \"/snap/jupyter/6/lib/python3.7/site-packages/ipykernel/kernelbase.py\", line 272, in dispatch_shell\n",
      "    yield gen.maybe_future(handler(stream, idents, msg))\n",
      "  File \"/snap/jupyter/6/lib/python3.7/site-packages/tornado/gen.py\", line 209, in wrapper\n",
      "    yielded = next(result)\n",
      "  File \"/snap/jupyter/6/lib/python3.7/site-packages/ipykernel/kernelbase.py\", line 542, in execute_request\n",
      "    user_expressions, allow_stdin,\n",
      "  File \"/snap/jupyter/6/lib/python3.7/site-packages/tornado/gen.py\", line 209, in wrapper\n",
      "    yielded = next(result)\n",
      "  File \"/snap/jupyter/6/lib/python3.7/site-packages/ipykernel/ipkernel.py\", line 294, in do_execute\n",
      "    res = shell.run_cell(code, store_history=store_history, silent=silent)\n",
      "  File \"/snap/jupyter/6/lib/python3.7/site-packages/ipykernel/zmqshell.py\", line 536, in run_cell\n",
      "    return super(ZMQInteractiveShell, self).run_cell(*args, **kwargs)\n",
      "  File \"/snap/jupyter/6/lib/python3.7/site-packages/IPython/core/interactiveshell.py\", line 2848, in run_cell\n",
      "    raw_cell, store_history, silent, shell_futures)\n",
      "  File \"/snap/jupyter/6/lib/python3.7/site-packages/IPython/core/interactiveshell.py\", line 2874, in _run_cell\n",
      "    return runner(coro)\n",
      "  File \"/snap/jupyter/6/lib/python3.7/site-packages/IPython/core/async_helpers.py\", line 67, in _pseudo_sync_runner\n",
      "    coro.send(None)\n",
      "  File \"/snap/jupyter/6/lib/python3.7/site-packages/IPython/core/interactiveshell.py\", line 3049, in run_cell_async\n",
      "    interactivity=interactivity, compiler=compiler, result=result)\n",
      "  File \"/snap/jupyter/6/lib/python3.7/site-packages/IPython/core/interactiveshell.py\", line 3220, in run_ast_nodes\n",
      "    if (yield from self.run_code(code, result)):\n",
      "  File \"/snap/jupyter/6/lib/python3.7/site-packages/IPython/core/interactiveshell.py\", line 3296, in run_code\n",
      "    exec(code_obj, self.user_global_ns, self.user_ns)\n",
      "  File \"<ipython-input-49-9a0d501e8cab>\", line 18, in <module>\n",
      "    log.critical('Orhr! Kernel panic!')\n",
      "Message: 'Orhr! Kernel panic!'\n",
      "Arguments: ()\n"
     ]
    }
   ],
   "source": [
    "import logging\n",
    "\n",
    "# Определить формат сообщений\n",
    "_format = logging.Formatter('%(levelname)-10s %(asctime)s %(messages)s')\n",
    "\n",
    "#Создать обработчик, который выводит сообщения с уровнем CRITICAL в поток stderr\n",
    "crit_hand = logging.StreamHandler(sys.stderr)\n",
    "crit_hand.setLevel(logging.CRITICAL)\n",
    "crit_hand.setFormatter(_format)\n",
    "\n",
    "#Создать регистратор\n",
    "log = logging.getLogger('basic')\n",
    "\n",
    "#добавить регистратор\n",
    "log.addHandler(crit_hand)\n",
    "\n",
    "#передать сообщение обработчику\n",
    "log.critical('Orhr! Kernel panic!')"
   ]
  },
  {
   "cell_type": "code",
   "execution_count": null,
   "metadata": {},
   "outputs": [],
   "source": []
  },
  {
   "cell_type": "code",
   "execution_count": null,
   "metadata": {},
   "outputs": [],
   "source": []
  },
  {
   "cell_type": "code",
   "execution_count": 50,
   "metadata": {},
   "outputs": [],
   "source": [
    "#файл 4\n",
    "# ЖУРНАЛИРОВАНИЕ"
   ]
  },
  {
   "cell_type": "code",
   "execution_count": 52,
   "metadata": {},
   "outputs": [
    {
     "name": "stderr",
     "output_type": "stream",
     "text": [
      "2021-05-14 17:07:47,414 - INFO - Тестовый запуск логирования \n",
      "2021-05-14 17:07:47,414 - INFO - Тестовый запуск логирования \n"
     ]
    }
   ],
   "source": [
    "# logging - стандартный модуль для организации логирования\n",
    "import logging      \n",
    "# Можно выполнить более расширенную настройку логирования.\n",
    "\n",
    "# Создаем объект-логгер с именем app.main:\n",
    "logger = logging.getLogger('app.main')\n",
    "\n",
    "# Создаем объект форматирования:\n",
    "formatter = logging.Formatter(\"%(asctime)s - %(levelname)s - %(message)s \")\n",
    "\n",
    "# Создаем файловый обработчик логирования (можно задать кодировку):\n",
    "fh = logging.FileHandler(\"app.main.log\", encoding='utf-8')\n",
    "fh.setLevel(logging.ERROR)\n",
    "fh.setFormatter(formatter)\n",
    "\n",
    "# Добавляем в логгер новый обработчик событий и устанавливаем уровень логирования\n",
    "logger.addHandler(fh)\n",
    "logger.setLevel(logging.DEBUG)\n",
    "\n",
    "# if __name__ == '__main__':\n",
    "# Создаем потоковый обработчик логирования (по умолчанию sys.stderr):\n",
    "console = logging.StreamHandler()\n",
    "console.setLevel(logging.DEBUG)\n",
    "console.setFormatter(formatter)\n",
    "logger.addHandler(console)\n",
    "logger.info('Тестовый запуск логирования')"
   ]
  },
  {
   "cell_type": "code",
   "execution_count": null,
   "metadata": {},
   "outputs": [],
   "source": []
  }
 ],
 "metadata": {
  "kernelspec": {
   "display_name": "Python 3",
   "language": "python",
   "name": "python3"
  },
  "language_info": {
   "codemirror_mode": {
    "name": "ipython",
    "version": 3
   },
   "file_extension": ".py",
   "mimetype": "text/x-python",
   "name": "python",
   "nbconvert_exporter": "python",
   "pygments_lexer": "ipython3",
   "version": "3.7.3"
  }
 },
 "nbformat": 4,
 "nbformat_minor": 2
}
