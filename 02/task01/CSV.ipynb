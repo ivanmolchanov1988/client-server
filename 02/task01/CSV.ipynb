{
 "cells": [
  {
   "cell_type": "code",
   "execution_count": null,
   "metadata": {},
   "outputs": [],
   "source": [
    "'''\n",
    "Задание на закрепление знаний по модулю CSV.\n",
    "\n",
    "Написать скрипт, осуществляющий выборку определенных данных из файлов \n",
    "info_1.txt, info_2.txt, info_3.txt \n",
    "и формирующий новый «отчетный» файл в формате CSV. \n",
    "Для этого:\n",
    "Создать функцию get_data(), \n",
    "в которой в цикле осуществляется перебор файлов с данными, \n",
    "их открытие и считывание данных. \n",
    "В этой функции из считанных данных необходимо \n",
    "с помощью регулярных выражений извлечь значения параметров \n",
    "«Изготовитель системы»,  \n",
    "«Название ОС», \n",
    "«Код продукта», \n",
    "«Тип системы». \n",
    "Значения каждого параметра поместить в соответствующий список. \n",
    "Должно получиться четыре списка — например, \n",
    "os_prod_list, \n",
    "os_name_list, \n",
    "os_code_list, \n",
    "os_type_list. \n",
    "В этой же функции создать главный список для хранения данных отчета \n",
    "— например, \n",
    "main_data — и поместить в него названия столбцов отчета в виде списка: \n",
    "«Изготовитель системы», \n",
    "«Название ОС», \n",
    "«Код продукта», \n",
    "«Тип системы». \n",
    "Значения для этих столбцов также оформить в виде списка и поместить в файл main_data \n",
    "(также для каждого файла);\n",
    "Создать функцию write_to_csv(), \n",
    "в которую передавать ссылку на CSV-файл. \n",
    "В этой функции реализовать получение данных через вызов функции get_data(), \n",
    "а также сохранение подготовленных данных в соответствующий CSV-файл;\n",
    "Проверить работу программы через вызов функции write_to_csv().\n",
    "\n",
    "'''"
   ]
  },
  {
   "cell_type": "code",
   "execution_count": 143,
   "metadata": {},
   "outputs": [],
   "source": [
    "import re\n",
    "import csv"
   ]
  },
  {
   "cell_type": "code",
   "execution_count": 146,
   "metadata": {},
   "outputs": [],
   "source": [
    "def get_data():\n",
    "    os_prod_list=[]\n",
    "    os_name_list=[]\n",
    "    os_code_list=[]\n",
    "    os_type_list=[]\n",
    "    \n",
    "    main_data=[\n",
    "        'Изготовитель системы',\n",
    "        'Название ОС',\n",
    "        'Код продукта',\n",
    "        'Тип системы',\n",
    "    ]\n",
    "    \n",
    "    fileList=[\n",
    "        'info_1.txt', \n",
    "        'info_2.txt', \n",
    "        'info_3.txt',\n",
    "    ]\n",
    "    \n",
    "    result=[]\n",
    "    \n",
    "    for i in fileList:\n",
    "        with open(i, 'r') as f:\n",
    "            print(f'{i}')\n",
    "            for indx, line in enumerate(f):\n",
    "                leftRow = re.findall(r'(.*)\\:', line)\n",
    "                rightRow = re.findall(r'(?<=: ).*', line)\n",
    "                print('\\t', rightRow)\n",
    "                \n",
    "                if leftRow[0] == main_data[0]:\n",
    "                    os_prod_list.append(rightRow[0])\n",
    "                    \n",
    "                elif leftRow[0] == main_data[1]:\n",
    "                    os_name_list.append(rightRow[0])\n",
    "                    \n",
    "                elif leftRow[0] == main_data[2]:\n",
    "                    os_code_list.append(rightRow[0])\n",
    "                    \n",
    "                elif leftRow[0] == main_data[3]:\n",
    "                    os_type_list.append(rightRow[0])\n",
    "                    \n",
    "            print('\\n')\n",
    "            \n",
    "    print(f'\\tprod => {os_prod_list}\\n\\\n",
    "    \\tname => {os_name_list}\\n\\\n",
    "    \\tcode => {os_code_list}\\n\\\n",
    "    \\ttype => {os_type_list}\\n')\n",
    "    osList = [\n",
    "        os_prod_list,\n",
    "        os_name_list,\n",
    "        os_code_list,\n",
    "        os_type_list,\n",
    "    ]\n",
    "    print(main_data, '\\n')\n",
    "    result.append(main_data)\n",
    "    for iii in osList:\n",
    "        result.append(iii)\n",
    "    return result"
   ]
  },
  {
   "cell_type": "code",
   "execution_count": null,
   "metadata": {},
   "outputs": [],
   "source": []
  },
  {
   "cell_type": "code",
   "execution_count": 148,
   "metadata": {},
   "outputs": [
    {
     "name": "stdout",
     "output_type": "stream",
     "text": [
      "info_1.txt\n",
      "\t ['Romashka']\n",
      "\t ['Oops']\n",
      "\t ['123.321']\n",
      "\t ['test']\n",
      "\n",
      "\n",
      "info_2.txt\n",
      "\t ['Test_2']\n",
      "\t ['OS_Test2']\n",
      "\t ['6655']\n",
      "\t ['tryit']\n",
      "\n",
      "\n",
      "info_3.txt\n",
      "\t ['TEst3']\n",
      "\t ['OS_name_Test3']\n",
      "\t ['765']\n",
      "\t ['test3']\n",
      "\n",
      "\n",
      "\tprod => ['Romashka', 'Test_2', 'TEst3']\n",
      "    \tname => ['Oops', 'OS_Test2', 'OS_name_Test3']\n",
      "    \tcode => ['123.321', '6655', '765']\n",
      "    \ttype => ['test', 'tryit', 'test3']\n",
      "\n",
      "['Изготовитель системы', 'Название ОС', 'Код продукта', 'Тип системы'] \n",
      "\n"
     ]
    }
   ],
   "source": [
    "with open('write_File.csv', 'w') as f:\n",
    "    writer = csv.writer(f, quoting = csv.QUOTE_NONNUMERIC)\n",
    "    writer.writerows(get_data())"
   ]
  },
  {
   "cell_type": "code",
   "execution_count": 149,
   "metadata": {},
   "outputs": [
    {
     "name": "stdout",
     "output_type": "stream",
     "text": [
      "['Изготовитель системы', 'Название ОС', 'Код продукта', 'Тип системы']\n",
      "['Romashka', 'Test_2', 'TEst3']\n",
      "['Oops', 'OS_Test2', 'OS_name_Test3']\n",
      "['123.321', '6655', '765']\n",
      "['test', 'tryit', 'test3']\n"
     ]
    }
   ],
   "source": [
    "with open('write_File.csv') as f:\n",
    "    reader = csv.reader(f)\n",
    "    for l in reader:\n",
    "        print(l)"
   ]
  },
  {
   "cell_type": "code",
   "execution_count": null,
   "metadata": {},
   "outputs": [],
   "source": []
  }
 ],
 "metadata": {
  "kernelspec": {
   "display_name": "Python 3",
   "language": "python",
   "name": "python3"
  },
  "language_info": {
   "codemirror_mode": {
    "name": "ipython",
    "version": 3
   },
   "file_extension": ".py",
   "mimetype": "text/x-python",
   "name": "python",
   "nbconvert_exporter": "python",
   "pygments_lexer": "ipython3",
   "version": "3.7.3"
  }
 },
 "nbformat": 4,
 "nbformat_minor": 2
}
