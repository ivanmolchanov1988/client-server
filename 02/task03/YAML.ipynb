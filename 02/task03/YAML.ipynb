{
 "cells": [
  {
   "cell_type": "code",
   "execution_count": null,
   "metadata": {},
   "outputs": [],
   "source": [
    "'''\n",
    "Задание на закрепление знаний по модулю yaml. \n",
    "Написать скрипт, автоматизирующий сохранение данных в файле YAML-формата. \n",
    "Для этого:\n",
    "Подготовить данные для записи в виде словаря, \n",
    "в котором первому ключу соответствует список, \n",
    "второму — целое число, \n",
    "третьему — вложенный словарь, \n",
    "    где значение каждого ключа — это целое число с юникод-символом, \n",
    "    отсутствующим в кодировке ASCII (например, €);\n",
    "Реализовать сохранение данных в файл формата YAML — например, \n",
    "в файл file.yaml. \n",
    "При этом обеспечить стилизацию файла с помощью параметра default_flow_style, \n",
    "а также установить возможность работы с юникодом: \n",
    "allow_unicode = True;\n",
    "Реализовать считывание данных из созданного файла и проверить, совпадают ли они с исходными.\n",
    "\n",
    "'''"
   ]
  },
  {
   "cell_type": "code",
   "execution_count": 1,
   "metadata": {},
   "outputs": [],
   "source": [
    "import yaml"
   ]
  },
  {
   "cell_type": "code",
   "execution_count": 3,
   "metadata": {},
   "outputs": [],
   "source": [
    "keyOne = [1,2,3]\n",
    "keyTwo = 1349\n",
    "keyThree = {\n",
    "    '1€': 'первый',\n",
    "    '2€': 'второй',\n",
    "}"
   ]
  },
  {
   "cell_type": "code",
   "execution_count": 4,
   "metadata": {},
   "outputs": [],
   "source": [
    "data_to_yaml = {\n",
    "    'keyOne': keyOne,\n",
    "    'keyTwo': keyTwo,\n",
    "    'keyThree': keyThree,\n",
    "}"
   ]
  },
  {
   "cell_type": "code",
   "execution_count": 12,
   "metadata": {},
   "outputs": [],
   "source": [
    "def pushYaml(data):\n",
    "    with open('data.yaml', 'w') as f:\n",
    "        yaml.dump(data, f, default_flow_style=False, allow_unicode=True)"
   ]
  },
  {
   "cell_type": "code",
   "execution_count": 13,
   "metadata": {},
   "outputs": [],
   "source": [
    "pushYaml(data_to_yaml)"
   ]
  },
  {
   "cell_type": "code",
   "execution_count": null,
   "metadata": {},
   "outputs": [],
   "source": []
  },
  {
   "cell_type": "code",
   "execution_count": 14,
   "metadata": {},
   "outputs": [
    {
     "name": "stdout",
     "output_type": "stream",
     "text": [
      "keyOne:\n",
      "- 1\n",
      "- 2\n",
      "- 3\n",
      "keyThree:\n",
      "  1€: первый\n",
      "  2€: второй\n",
      "keyTwo: 1349\n",
      "\n"
     ]
    }
   ],
   "source": [
    "with open('data.yaml') as f:\n",
    "    print(f.read())"
   ]
  },
  {
   "cell_type": "code",
   "execution_count": null,
   "metadata": {},
   "outputs": [],
   "source": []
  }
 ],
 "metadata": {
  "kernelspec": {
   "display_name": "Python 3",
   "language": "python",
   "name": "python3"
  },
  "language_info": {
   "codemirror_mode": {
    "name": "ipython",
    "version": 3
   },
   "file_extension": ".py",
   "mimetype": "text/x-python",
   "name": "python",
   "nbconvert_exporter": "python",
   "pygments_lexer": "ipython3",
   "version": "3.7.3"
  }
 },
 "nbformat": 4,
 "nbformat_minor": 2
}
