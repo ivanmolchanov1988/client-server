{
 "cells": [
  {
   "cell_type": "code",
   "execution_count": null,
   "metadata": {},
   "outputs": [],
   "source": [
    "'''\n",
    "Задание на закрепление знаний по модулю json. \n",
    "Есть файл orders в формате JSON с информацией о заказах. \n",
    "Написать скрипт, автоматизирующий его заполнение данными. \n",
    "Для этого:\n",
    "Создать функцию write_order_to_json(), \n",
    "в которую передается 5 параметров — \n",
    "товар (item), \n",
    "количество (quantity), \n",
    "цена (price), \n",
    "покупатель (buyer), \n",
    "дата (date). \n",
    "Функция должна предусматривать запись данных в виде словаря в файл orders.json. \n",
    "При записи данных указать величину отступа в 4 пробельных символа;\n",
    "Проверить работу программы через вызов функции write_order_to_json() \n",
    "с передачей в нее значений каждого параметра.\n",
    "\n",
    "'''"
   ]
  },
  {
   "cell_type": "code",
   "execution_count": 3,
   "metadata": {},
   "outputs": [],
   "source": [
    "import json"
   ]
  },
  {
   "cell_type": "code",
   "execution_count": 7,
   "metadata": {},
   "outputs": [],
   "source": [
    "def write_order_to_json(item, quantity, price, buyer, date):\n",
    "    dict_to_json = {\n",
    "      \"item\": item,\n",
    "      \"quantity\": quantity,\n",
    "      \"price\": price,\n",
    "      \"buyer\": buyer,\n",
    "      \"date\": date,\n",
    "    }\n",
    "    \n",
    "    with open('orders.jaon', 'w') as f:\n",
    "        json.dump(dict_to_json, f, sort_keys=True, indent=4)"
   ]
  },
  {
   "cell_type": "code",
   "execution_count": null,
   "metadata": {},
   "outputs": [],
   "source": []
  },
  {
   "cell_type": "code",
   "execution_count": 8,
   "metadata": {},
   "outputs": [],
   "source": [
    "write_order_to_json('item01', 10, 100, 'Ivan', '05.05.2021')"
   ]
  },
  {
   "cell_type": "code",
   "execution_count": 9,
   "metadata": {},
   "outputs": [
    {
     "name": "stdout",
     "output_type": "stream",
     "text": [
      "{\n",
      "    \"buyer\": \"Ivan\",\n",
      "    \"date\": \"05.05.2021\",\n",
      "    \"item\": \"item01\",\n",
      "    \"price\": 100,\n",
      "    \"quantity\": 10\n",
      "}\n"
     ]
    }
   ],
   "source": [
    "with open('orders.jaon') as f:\n",
    "    print(f.read())"
   ]
  },
  {
   "cell_type": "code",
   "execution_count": null,
   "metadata": {},
   "outputs": [],
   "source": []
  }
 ],
 "metadata": {
  "kernelspec": {
   "display_name": "Python 3",
   "language": "python",
   "name": "python3"
  },
  "language_info": {
   "codemirror_mode": {
    "name": "ipython",
    "version": 3
   },
   "file_extension": ".py",
   "mimetype": "text/x-python",
   "name": "python",
   "nbconvert_exporter": "python",
   "pygments_lexer": "ipython3",
   "version": "3.7.3"
  }
 },
 "nbformat": 4,
 "nbformat_minor": 2
}
