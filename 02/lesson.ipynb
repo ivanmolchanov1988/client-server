{
 "cells": [
  {
   "cell_type": "code",
   "execution_count": 1,
   "metadata": {},
   "outputs": [],
   "source": [
    "# CSV"
   ]
  },
  {
   "cell_type": "code",
   "execution_count": 4,
   "metadata": {},
   "outputs": [],
   "source": [
    "import csv"
   ]
  },
  {
   "cell_type": "code",
   "execution_count": null,
   "metadata": {},
   "outputs": [],
   "source": [
    "'''\n",
    "class iterator:\n",
    "    def __init__(self):\n",
    "        pass\n",
    "        \n",
    "    def __next__(self):\n",
    "        return self.elements[i+1]\n",
    "'''"
   ]
  },
  {
   "cell_type": "code",
   "execution_count": 13,
   "metadata": {},
   "outputs": [
    {
     "name": "stdout",
     "output_type": "stream",
     "text": [
      "['name', 'sku', 'subtitle', 'ribbon', 'ribbonColor', 'description', 'showOnFrontpage', 'category1', 'category2', 'category3', 'image', 'weight', 'price', 'recommended_price', 'quantity', 'enabled', 'shippingType', 'shippingMethodMarkup', 'shippingFlatRate', 'shippingDisabledMethods', 'shippingEnabledMethods', 'length', 'width', 'height', 'upc', 'brand', 'seo_title', 'seo_description'] \n",
      "\n",
      "--01--name\n",
      "[\"Billabong Tribong Bungalow Lo Tides 19' Boardshorts\", 'M115GTLE', 'Pre-order available', 'New arrivals!', '#7713FA', '<h3>About Billabong Tribong Bungalow Lo Tides 19\\' Boardshorts in Ice</h3>On seam pockets.<br>Lasso waist.<br>Cut-and-sew colorblocked panelling.<br>Back right patch pocket with flap.<br>Outseam: 19 inches.<p>51% Cotton, 43% Polyester, 6% Elastane.<br></p><p><em>This site is a demo site only. This product is not available for sale from us but can be purchased at <a href=\"http://surfride.com/\" target=\"_blank\">SurfRide.com</a>. The product images and descriptions have been provided by Surf Ride.</em><br/></p>', '1', 'Mens Apparel', '', '', 'https://dpbfm6h358sh7.cloudfront.net/images/1003/414464001.jpg', '0.3', '59', '55.99', '10', 'yes', 'GLOBAL_METHODS', '0', '0', '', '', '4', '3', '1', '', '', \"Billabong Tribong Bungalow Lo Tides 19' Boardshorts\", \"Billabong Tribong Bungalow Lo Tides 19' Boardshorts\"] \n",
      "\n",
      "--01--Billabong Tribong Bungalow Lo Tides 19' Boardshorts\n"
     ]
    }
   ],
   "source": [
    "with open('data.csv') as f:\n",
    "    reader = csv.reader(f)\n",
    "    for l in reader:\n",
    "        print(l, '\\n')\n",
    "        print(f'--01--{l[0]}')"
   ]
  },
  {
   "cell_type": "code",
   "execution_count": 15,
   "metadata": {
    "scrolled": true
   },
   "outputs": [
    {
     "name": "stdout",
     "output_type": "stream",
     "text": [
      "[\"Billabong Tribong Bungalow Lo Tides 19' Boardshorts\", 'M115GTLE', 'Pre-order available', 'New arrivals!', '#7713FA', '<h3>About Billabong Tribong Bungalow Lo Tides 19\\' Boardshorts in Ice</h3>On seam pockets.<br>Lasso waist.<br>Cut-and-sew colorblocked panelling.<br>Back right patch pocket with flap.<br>Outseam: 19 inches.<p>51% Cotton, 43% Polyester, 6% Elastane.<br></p><p><em>This site is a demo site only. This product is not available for sale from us but can be purchased at <a href=\"http://surfride.com/\" target=\"_blank\">SurfRide.com</a>. The product images and descriptions have been provided by Surf Ride.</em><br/></p>', '1', 'Mens Apparel', '', '', 'https://dpbfm6h358sh7.cloudfront.net/images/1003/414464001.jpg', '0.3', '59', '55.99', '10', 'yes', 'GLOBAL_METHODS', '0', '0', '', '', '4', '3', '1', '', '', \"Billabong Tribong Bungalow Lo Tides 19' Boardshorts\", \"Billabong Tribong Bungalow Lo Tides 19' Boardshorts\"] \n",
      "\n",
      "--01--Billabong Tribong Bungalow Lo Tides 19' Boardshorts\n"
     ]
    }
   ],
   "source": [
    "# тоже, но без header\n",
    "with open('data.csv') as f:\n",
    "    reader = csv.reader(f)\n",
    "    header = next(reader)\n",
    "    for l in reader:\n",
    "        print(l, '\\n')\n",
    "        print(f'--01--{l[0]}')"
   ]
  },
  {
   "cell_type": "code",
   "execution_count": 22,
   "metadata": {},
   "outputs": [
    {
     "name": "stdout",
     "output_type": "stream",
     "text": [
      "M115GTLE \n",
      "\n"
     ]
    }
   ],
   "source": [
    "# ключ-значение\n",
    "# первая строк - ключ\n",
    "with open('data.csv') as f:\n",
    "    reader = csv.DictReader(f)\n",
    "    for row in reader:\n",
    "        print(row['sku'], '\\n')"
   ]
  },
  {
   "cell_type": "code",
   "execution_count": 24,
   "metadata": {},
   "outputs": [],
   "source": [
    "#запись"
   ]
  },
  {
   "cell_type": "code",
   "execution_count": 38,
   "metadata": {},
   "outputs": [],
   "source": [
    "data = [\n",
    "    ['hostname1', 'vendor', 'model', 'location'],\n",
    "    ['kp1', 'Cisco', '2960', 'Moscow'],\n",
    "    ['kp2', 'Cisco', '2960', 'Kazan'],\n",
    "]"
   ]
  },
  {
   "cell_type": "code",
   "execution_count": 32,
   "metadata": {},
   "outputs": [],
   "source": [
    "#автоматическое определение типов данных в столбцах\n",
    "with open('write_File.csv', 'w') as f:\n",
    "    writer = csv.writer(f)\n",
    "    for r in data:\n",
    "        writer.writerow(r)"
   ]
  },
  {
   "cell_type": "code",
   "execution_count": 34,
   "metadata": {},
   "outputs": [],
   "source": [
    "# предопределение типов данных в столбцах, т.е. всё пишем строками\n",
    "with open('write_File.csv', 'w') as f:\n",
    "    writer = csv.writer(f, quoting = csv.QUOTE_NONNUMERIC)\n",
    "    for r in data:\n",
    "        writer.writerow(r)"
   ]
  },
  {
   "cell_type": "code",
   "execution_count": 35,
   "metadata": {},
   "outputs": [
    {
     "name": "stdout",
     "output_type": "stream",
     "text": [
      "['hostname', 'vendor', 'model', 'location']\n",
      "['kp1', 'Cisco', '2960', 'Moscow']\n",
      "['kp2', 'Cisco', '2960', 'Kazan']\n"
     ]
    }
   ],
   "source": [
    "with open('write_File.csv') as f:\n",
    "    reader = csv.reader(f)\n",
    "    for l in reader:\n",
    "        print(l)"
   ]
  },
  {
   "cell_type": "code",
   "execution_count": 39,
   "metadata": {},
   "outputs": [
    {
     "name": "stdout",
     "output_type": "stream",
     "text": [
      "['hostname1', 'vendor', 'model', 'location']\n",
      "['kp1', 'Cisco', '2960', 'Moscow']\n",
      "['kp2', 'Cisco', '2960', 'Kazan']\n"
     ]
    }
   ],
   "source": [
    "# Не используем for\n",
    "with open('write_File.csv', 'w') as f:\n",
    "    writer = csv.writer(f, quoting = csv.QUOTE_NONNUMERIC)\n",
    "    writer.writerows(data)\n",
    "    \n",
    "    \n",
    "with open('write_File.csv') as f:\n",
    "    reader = csv.reader(f)\n",
    "    for l in reader:\n",
    "        print(l)"
   ]
  },
  {
   "cell_type": "code",
   "execution_count": 41,
   "metadata": {},
   "outputs": [
    {
     "name": "stdout",
     "output_type": "stream",
     "text": [
      "['hostname1,\"vendor\",\"model\",\"location\"']\n",
      "['kp1,\"Cisco\",\"2960\",\"Moscow\"']\n",
      "['kp2,\"Cisco\",\"2960\",\"Kazan\"']\n"
     ]
    }
   ],
   "source": [
    "# указываем разделитель\n",
    "with open('write_File.csv') as f:\n",
    "    reader = csv.reader(f, delimiter='!')\n",
    "    for r in reader:\n",
    "        print(r)"
   ]
  },
  {
   "cell_type": "code",
   "execution_count": null,
   "metadata": {},
   "outputs": [],
   "source": []
  },
  {
   "cell_type": "code",
   "execution_count": 42,
   "metadata": {},
   "outputs": [],
   "source": [
    "# JSON __________________________"
   ]
  },
  {
   "cell_type": "code",
   "execution_count": 43,
   "metadata": {},
   "outputs": [],
   "source": [
    "import json"
   ]
  },
  {
   "cell_type": "code",
   "execution_count": 54,
   "metadata": {
    "scrolled": true
   },
   "outputs": [
    {
     "name": "stdout",
     "output_type": "stream",
     "text": [
      "action\n",
      "\tmsg\n",
      "time\n",
      "\t<unix timestamp>\n",
      "to\n",
      "\taccount_name\n",
      "from\n",
      "\taccount_name\n",
      "encoding\n",
      "\tascii\n",
      "message\n",
      "\tmessage\n",
      "num\n",
      "\t1\n"
     ]
    }
   ],
   "source": [
    "# load\n",
    "with open('json.json') as f:\n",
    "    obj = json.load(f)\n",
    "    \n",
    "for sections, commands in obj.items():\n",
    "    print(sections)\n",
    "    print(f'\\t{commands}')"
   ]
  },
  {
   "cell_type": "code",
   "execution_count": 55,
   "metadata": {},
   "outputs": [
    {
     "name": "stdout",
     "output_type": "stream",
     "text": [
      "action\n",
      "\tmsg\n",
      "time\n",
      "\t<unix timestamp>\n",
      "to\n",
      "\taccount_name\n",
      "from\n",
      "\taccount_name\n",
      "encoding\n",
      "\tascii\n",
      "message\n",
      "\tmessage\n",
      "num\n",
      "\t1\n"
     ]
    }
   ],
   "source": [
    "# loads\n",
    "with open('json.json') as f:\n",
    "    content = f.read()\n",
    "    obj = json.loads(content)\n",
    "    \n",
    "for sections, commands in obj.items():\n",
    "    print(sections)\n",
    "    print(f'\\t{commands}')"
   ]
  },
  {
   "cell_type": "code",
   "execution_count": 56,
   "metadata": {},
   "outputs": [],
   "source": [
    "# запись\n",
    "dict_to_json = {\n",
    "  \"action\": \"msg\",\n",
    "  \"time\": \"<unix timestamp>\",\n",
    "  \"to\": \"account_name\",\n",
    "  \"from\": \"account_name\",\n",
    "  \"encoding\": \"ascii\",\n",
    "  \"message\": \"message\",\n",
    "  \"num\": 1,\n",
    "}"
   ]
  },
  {
   "cell_type": "code",
   "execution_count": 57,
   "metadata": {},
   "outputs": [
    {
     "name": "stdout",
     "output_type": "stream",
     "text": [
      "{\"action\": \"msg\", \"time\": \"<unix timestamp>\", \"to\": \"account_name\", \"from\": \"account_name\", \"encoding\": \"ascii\", \"message\": \"message\", \"num\": 1}\n"
     ]
    }
   ],
   "source": [
    "#dumps\n",
    "with open('inputJson.json', 'w') as f:\n",
    "    f.write(json.dumps(dict_to_json))\n",
    "    \n",
    "with open('inputJson.json') as f:\n",
    "    print(f.read())"
   ]
  },
  {
   "cell_type": "code",
   "execution_count": 60,
   "metadata": {},
   "outputs": [
    {
     "name": "stdout",
     "output_type": "stream",
     "text": [
      "{\n",
      "          \"action\": \"msg\",\n",
      "          \"encoding\": \"ascii\",\n",
      "          \"from\": \"account_name\",\n",
      "          \"message\": \"message\",\n",
      "          \"num\": 1,\n",
      "          \"time\": \"<unix timestamp>\",\n",
      "          \"to\": \"account_name\"\n",
      "}\n"
     ]
    }
   ],
   "source": [
    "#dump\n",
    "with open('inputJson.json', 'w') as f:\n",
    "    json.dump(dict_to_json, f, sort_keys=True, indent=10)\n",
    "    \n",
    "with open('inputJson.json') as f:\n",
    "    print(f.read())"
   ]
  },
  {
   "cell_type": "code",
   "execution_count": 74,
   "metadata": {},
   "outputs": [],
   "source": [
    "# load\n",
    "data = '{\"action\": \"msg\", \"encoding\": \"ascii\", \"from\": \"НАТАША СОМОЙЛОВА\", \"message\": \"message\", \"num\": 1, \"time\": \"<unix timestamp>\", \"to\": \"account_name\"}'"
   ]
  },
  {
   "cell_type": "code",
   "execution_count": 75,
   "metadata": {},
   "outputs": [],
   "source": [
    "py_data = json.loads(data)"
   ]
  },
  {
   "cell_type": "code",
   "execution_count": 76,
   "metadata": {},
   "outputs": [
    {
     "name": "stdout",
     "output_type": "stream",
     "text": [
      "action \t\t msg\n",
      "encoding \t ascii\n",
      "from \t\t НАТАША СОМОЙЛОВА\n",
      "message \t message\n",
      "num \t\t 1\n",
      "time \t\t <unix timestamp>\n",
      "to \t\t account_name\n"
     ]
    }
   ],
   "source": [
    "for key, value in py_data.items():\n",
    "    if len(key) > 6:\n",
    "        print(f'{key} \\t {value}')\n",
    "    else:\n",
    "        print(f'{key} \\t\\t {value}')"
   ]
  },
  {
   "cell_type": "code",
   "execution_count": 79,
   "metadata": {},
   "outputs": [
    {
     "name": "stdout",
     "output_type": "stream",
     "text": [
      "{\n",
      "  \"action\": \"msg\",\n",
      "  \"encoding\": \"ascii\",\n",
      "  \"from\": \"НАТАША СОМОЙЛОВА\",\n",
      "  \"message\": \"message\",\n",
      "  \"num\": 1,\n",
      "  \"time\": \"<unix timestamp>\",\n",
      "  \"to\": \"account_name\"\n",
      "}\n"
     ]
    }
   ],
   "source": [
    "#запись в файл UNICODE (ensure_ascii=False)\n",
    "with open('UNICODE.json', 'w') as f:\n",
    "    json.dump(py_data, f, indent=2, ensure_ascii=False)\n",
    "\n",
    "with open('UNICODE.json') as f:\n",
    "    print(f.read())"
   ]
  },
  {
   "cell_type": "code",
   "execution_count": null,
   "metadata": {},
   "outputs": [],
   "source": []
  },
  {
   "cell_type": "code",
   "execution_count": 80,
   "metadata": {},
   "outputs": [],
   "source": [
    "#YAML ____________________________________________________"
   ]
  },
  {
   "cell_type": "code",
   "execution_count": 81,
   "metadata": {},
   "outputs": [
    {
     "name": "stdout",
     "output_type": "stream",
     "text": [
      "Collecting pyyaml\n",
      "\u001b[?25l  Downloading https://files.pythonhosted.org/packages/7a/a5/393c087efdc78091afa2af9f1378762f9821c9c1d7a22c5753fb5ac5f97a/PyYAML-5.4.1-cp37-cp37m-manylinux1_x86_64.whl (636kB)\n",
      "\u001b[K     |████████████████████████████████| 645kB 1.2MB/s eta 0:00:01\n",
      "\u001b[?25hInstalling collected packages: pyyaml\n",
      "Successfully installed pyyaml-5.4.1\n"
     ]
    }
   ],
   "source": [
    "!pip install pyyaml"
   ]
  },
  {
   "cell_type": "code",
   "execution_count": 82,
   "metadata": {},
   "outputs": [],
   "source": [
    "import yaml"
   ]
  },
  {
   "cell_type": "code",
   "execution_count": 92,
   "metadata": {},
   "outputs": [
    {
     "name": "stdout",
     "output_type": "stream",
     "text": [
      "[{'Imaro': None, 'author': 'Charles R. Saunders', 'language': 'English', 'publication-year': 1981, 'pages': 224}, {'Imaro': None, 'author': 'Charles R. Saunders', 'language': 'English', 'publication-year': 1981, 'pages': 224}]\n"
     ]
    }
   ],
   "source": [
    "with open('YML.yaml') as f:\n",
    "    content = yaml.safe_load(f)\n",
    "print(content)"
   ]
  },
  {
   "cell_type": "code",
   "execution_count": 93,
   "metadata": {},
   "outputs": [],
   "source": [
    "#запись\n",
    "action_list = [\n",
    "    'msg_1',\n",
    "    'msg_2',\n",
    "    'msg_3',\n",
    "]\n",
    "to_list = [\n",
    "    'account_1',\n",
    "    'account_2',\n",
    "    'account_3',\n",
    "]"
   ]
  },
  {
   "cell_type": "code",
   "execution_count": 94,
   "metadata": {},
   "outputs": [],
   "source": [
    "data_to_yaml = {\n",
    "    'action': action_list, \n",
    "    'to': to_list\n",
    "}"
   ]
  },
  {
   "cell_type": "code",
   "execution_count": 95,
   "metadata": {},
   "outputs": [
    {
     "name": "stdout",
     "output_type": "stream",
     "text": [
      "action:\n",
      "- msg_1\n",
      "- msg_2\n",
      "- msg_3\n",
      "to:\n",
      "- account_1\n",
      "- account_2\n",
      "- account_3\n",
      "\n"
     ]
    }
   ],
   "source": [
    "with open('data_write_yaml', 'w') as f:\n",
    "    yaml.dump(data_to_yaml, f)\n",
    "\n",
    "with open('data_write_yaml') as f:\n",
    "    print(f.read())"
   ]
  },
  {
   "cell_type": "code",
   "execution_count": null,
   "metadata": {},
   "outputs": [],
   "source": []
  }
 ],
 "metadata": {
  "kernelspec": {
   "display_name": "Python 3",
   "language": "python",
   "name": "python3"
  },
  "language_info": {
   "codemirror_mode": {
    "name": "ipython",
    "version": 3
   },
   "file_extension": ".py",
   "mimetype": "text/x-python",
   "name": "python",
   "nbconvert_exporter": "python",
   "pygments_lexer": "ipython3",
   "version": "3.7.3"
  }
 },
 "nbformat": 4,
 "nbformat_minor": 2
}
