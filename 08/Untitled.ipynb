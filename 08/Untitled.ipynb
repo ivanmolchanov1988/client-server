{
 "cells": [
  {
   "cell_type": "code",
   "execution_count": 1,
   "metadata": {},
   "outputs": [],
   "source": [
    "# Потоки"
   ]
  },
  {
   "cell_type": "code",
   "execution_count": 26,
   "metadata": {},
   "outputs": [],
   "source": [
    "from threading import Thread\n",
    "import time\n",
    "\n",
    "def clock(internal):\n",
    "    while True:\n",
    "        print('Текущее время: %s' %time.ctime())\n",
    "        time.sleep(internal)\n",
    "    \n",
    "t = Thread(target=clock, args=(15, ))\n",
    "#t.deamon = True\n",
    "#t.start()"
   ]
  },
  {
   "cell_type": "code",
   "execution_count": null,
   "metadata": {},
   "outputs": [],
   "source": []
  },
  {
   "cell_type": "code",
   "execution_count": 10,
   "metadata": {},
   "outputs": [],
   "source": [
    "#Работа с классами\n"
   ]
  },
  {
   "cell_type": "code",
   "execution_count": 27,
   "metadata": {},
   "outputs": [
    {
     "name": "stdout",
     "output_type": "stream",
     "text": [
      "Текущее время: Wed May 26 15:12:21 2021\n"
     ]
    }
   ],
   "source": [
    "from threading import Thread\n",
    "import time\n",
    "\n",
    "class ClockThread(Thread):\n",
    "    def __init__(self, internal):\n",
    "        super().__init__()\n",
    "        #self.deamon = True\n",
    "        self.internal = internal\n",
    "        \n",
    "    def run(self):\n",
    "        while True:\n",
    "            print('Текущее время: %s' %time.ctime())\n",
    "            time.sleep(self.internal)"
   ]
  },
  {
   "cell_type": "code",
   "execution_count": 28,
   "metadata": {},
   "outputs": [
    {
     "name": "stdout",
     "output_type": "stream",
     "text": [
      "Текущее время: Wed May 26 15:12:28 2021\n"
     ]
    }
   ],
   "source": [
    "#t = ClockThread(15)\n",
    "#t.start()"
   ]
  },
  {
   "cell_type": "code",
   "execution_count": null,
   "metadata": {},
   "outputs": [],
   "source": []
  },
  {
   "cell_type": "code",
   "execution_count": 23,
   "metadata": {},
   "outputs": [
    {
     "name": "stdout",
     "output_type": "stream",
     "text": [
      "Текущее время: Wed May 26 15:09:43 2021\n",
      "Текущее время: Wed May 26 15:09:45 2021\n"
     ]
    }
   ],
   "source": [
    "#Файлы\n"
   ]
  },
  {
   "cell_type": "code",
   "execution_count": 29,
   "metadata": {},
   "outputs": [
    {
     "ename": "NameError",
     "evalue": "name 'lock' is not defined",
     "output_type": "error",
     "traceback": [
      "\u001b[0;31m---------------------------------------------------------------------------\u001b[0m",
      "\u001b[0;31mNameError\u001b[0m                                 Traceback (most recent call last)",
      "\u001b[0;32m<ipython-input-29-c2e3442fd40c>\u001b[0m in \u001b[0;36m<module>\u001b[0;34m\u001b[0m\n\u001b[0;32m----> 1\u001b[0;31m \u001b[0mwrite_lock\u001b[0m \u001b[0;34m=\u001b[0m \u001b[0mlock\u001b[0m\u001b[0;34m(\u001b[0m\u001b[0;34m)\u001b[0m\u001b[0;34m\u001b[0m\u001b[0;34m\u001b[0m\u001b[0m\n\u001b[0m\u001b[1;32m      2\u001b[0m \u001b[0;31m#...#\u001b[0m\u001b[0;34m\u001b[0m\u001b[0;34m\u001b[0m\u001b[0;34m\u001b[0m\u001b[0m\n\u001b[1;32m      3\u001b[0m \u001b[0;31m#Критическй участок, где выполняется запись\u001b[0m\u001b[0;34m\u001b[0m\u001b[0;34m\u001b[0m\u001b[0;34m\u001b[0m\u001b[0m\n\u001b[1;32m      4\u001b[0m \u001b[0mwrite_lock\u001b[0m\u001b[0;34m.\u001b[0m\u001b[0macquire\u001b[0m\u001b[0;34m(\u001b[0m\u001b[0;34m)\u001b[0m\u001b[0;34m\u001b[0m\u001b[0;34m\u001b[0m\u001b[0m\n\u001b[1;32m      5\u001b[0m \u001b[0mf\u001b[0m\u001b[0;34m.\u001b[0m\u001b[0mwrite\u001b[0m\u001b[0;34m(\u001b[0m\u001b[0;34m\"Here's some data.\\n\"\u001b[0m\u001b[0;34m)\u001b[0m\u001b[0;34m\u001b[0m\u001b[0;34m\u001b[0m\u001b[0m\n",
      "\u001b[0;31mNameError\u001b[0m: name 'lock' is not defined"
     ]
    },
    {
     "name": "stdout",
     "output_type": "stream",
     "text": [
      "Текущее время: Wed May 26 15:12:36 2021\n"
     ]
    }
   ],
   "source": [
    "write_lock = lock()\n",
    "#...#\n",
    "#Критическй участок, где выполняется запись\n",
    "write_lock.acquire()\n",
    "f.write(\"Here's some data.\\n\")\n",
    "f.write(\"Here's some data.\\n\")\n",
    "#...#\n",
    "write_lock.release()"
   ]
  },
  {
   "cell_type": "code",
   "execution_count": null,
   "metadata": {},
   "outputs": [],
   "source": [
    "from threading import Thread, Lock\n",
    "import time\n",
    "\n",
    "done = Lock()\n",
    "def idle_release():\n",
    "    print('Running release!')\n",
    "    time.sleep(5)\n",
    "    done.release()\n",
    "    \n",
    "done.acquire()\n",
    "Thread(target=idle_release).start()\n",
    "done.acquire()\n",
    "print('Странне поведение мьютексов в Python...')"
   ]
  },
  {
   "cell_type": "code",
   "execution_count": null,
   "metadata": {},
   "outputs": [],
   "source": []
  },
  {
   "cell_type": "code",
   "execution_count": 1,
   "metadata": {},
   "outputs": [],
   "source": [
    "#Мультипроцессинг\n"
   ]
  },
  {
   "cell_type": "code",
   "execution_count": 2,
   "metadata": {},
   "outputs": [],
   "source": [
    "import multiprocessing\n",
    "import time\n",
    "\n",
    "def clock(interval):\n",
    "    while True:\n",
    "        print('The time is %s' %time.ctime())\n",
    "        time.sleep(interval)\n",
    "        \n",
    "if __name__ == \"__main__\":\n",
    "    p = multiprocessing.Process(target=clock, args=(15, ))\n",
    "    p.start()"
   ]
  },
  {
   "cell_type": "code",
   "execution_count": null,
   "metadata": {},
   "outputs": [],
   "source": []
  },
  {
   "cell_type": "code",
   "execution_count": null,
   "metadata": {},
   "outputs": [],
   "source": [
    "import multiprocessing\n",
    "\n",
    "def consumer(input_q):\n",
    "    while True:\n",
    "        item = input_q.get()\n",
    "        #Обработать элемент\n",
    "        print(item) # Здесь может быть обработка элемента\n",
    "        #Сообщить о завершении блокировки\n",
    "        input_q.task_done()\n",
    "        \n",
    "def poroducer(sequence, output_q):\n",
    "    for items in sequence:\n",
    "        output_q.put(item) # добавить элемент в очередь\n",
    "        \n",
    "if __name__ == '__main__':\n",
    "    q = multiprocessing.JoinableOueue()\n",
    "    #запустить процесс-потребитель\n",
    "    cons_p = multiprocessing.Process(target=consumer, args=(q, ))\n",
    "    cons_p.daemon = True\n",
    "    cons_p.start()\n",
    "    \n",
    "    #Воспроизвести элементы,\n",
    "    # sequence - последовательность элементов, которые предаются потребтелю\n",
    "    # На практике, вместо переменной можно использовать генератор\n",
    "    # или воспроизводить элементы каким-либо другим способом.\n",
    "    sequence = [1,2,3,4]\n",
    "    producer(sequence, q)\n",
    "    q.join() # Дождаться, пока все элементы не будут обрабатывать"
   ]
  },
  {
   "cell_type": "code",
   "execution_count": null,
   "metadata": {},
   "outputs": [],
   "source": []
  }
 ],
 "metadata": {
  "kernelspec": {
   "display_name": "Python 3",
   "language": "python",
   "name": "python3"
  },
  "language_info": {
   "codemirror_mode": {
    "name": "ipython",
    "version": 3
   },
   "file_extension": ".py",
   "mimetype": "text/x-python",
   "name": "python",
   "nbconvert_exporter": "python",
   "pygments_lexer": "ipython3",
   "version": "3.7.3"
  }
 },
 "nbformat": 4,
 "nbformat_minor": 2
}
