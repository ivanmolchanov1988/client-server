{
 "cells": [
  {
   "cell_type": "code",
   "execution_count": 3,
   "metadata": {},
   "outputs": [],
   "source": [
    "# Модуль select\n",
    "# Слоты"
   ]
  },
  {
   "cell_type": "code",
   "execution_count": 11,
   "metadata": {},
   "outputs": [],
   "source": [
    "# Сервер\n",
    "import time\n",
    "import select\n",
    "from socket import socket, AF_INET, SOCK_STREAM\n",
    "\n",
    "def new_listen_socket(address):\n",
    "    sock = socket(AF_INET, SOCK_STREAM)\n",
    "    sock.bind(address)\n",
    "    sock.listen(5)\n",
    "    sock.settimeout(0.2) # Таймаут для операций с сокетом\n",
    "                        # Таймаут необходим, чтобы не ждать появления данных\n",
    "    return sock\n",
    "\n",
    "def mainloop():\n",
    "    '''Основной цикл обработки запросов клиентов\n",
    "    '''\n",
    "    address = ('', 8888)\n",
    "    clients = []\n",
    "    sock = new_listen_socket(address)\n",
    "    \n",
    "    while True:\n",
    "        try:\n",
    "            conn, addr = sock.accept() # проверка подключений\n",
    "        except OSError as e:\n",
    "                pass                   # таймаут вышел\n",
    "        else:\n",
    "            print('Получен запрос на соединение с %s' %str(addr))\n",
    "            clients.append(conn)\n",
    "        finally:\n",
    "            # Проверть наличие событий ввода-вывода без таймаутов\n",
    "            w = []\n",
    "            try:\n",
    "                r,w,e = select.select([], clients, [], 0)\n",
    "            except Exception as e:\n",
    "                # Исключение произойдёт, если какой-то сервер отключился\n",
    "                pass # Ничего не делать, если какой-то клиент отключился\n",
    "            # Обойти список клиентов, читающих из сокета\n",
    "            for s_client in w:\n",
    "                timestr = time.ctime(time.time()) + '\\n'\n",
    "            try:\n",
    "                s_client.send(timestr.encode('utf-8'))\n",
    "            except:\n",
    "                # Удаляем клиена, который отключился\n",
    "                # client.remove(s_client)\n",
    "                pass\n",
    "            \n",
    "#if __name__ == '__main__':\n",
    "    #print('Эхо-сервер запущен')\n",
    "    #mainloop()\n",
    "                    "
   ]
  },
  {
   "cell_type": "code",
   "execution_count": 12,
   "metadata": {},
   "outputs": [
    {
     "ename": "OSError",
     "evalue": "[Errno 98] Address already in use",
     "output_type": "error",
     "traceback": [
      "\u001b[0;31m---------------------------------------------------------------------------\u001b[0m",
      "\u001b[0;31mOSError\u001b[0m                                   Traceback (most recent call last)",
      "\u001b[0;32m<ipython-input-12-ace17151e1ef>\u001b[0m in \u001b[0;36m<module>\u001b[0;34m\u001b[0m\n\u001b[0;32m----> 1\u001b[0;31m \u001b[0mmainloop\u001b[0m\u001b[0;34m(\u001b[0m\u001b[0;34m)\u001b[0m\u001b[0;34m\u001b[0m\u001b[0;34m\u001b[0m\u001b[0m\n\u001b[0m",
      "\u001b[0;32m<ipython-input-11-db12b89d3c07>\u001b[0m in \u001b[0;36mmainloop\u001b[0;34m()\u001b[0m\n\u001b[1;32m     17\u001b[0m     \u001b[0maddress\u001b[0m \u001b[0;34m=\u001b[0m \u001b[0;34m(\u001b[0m\u001b[0;34m''\u001b[0m\u001b[0;34m,\u001b[0m \u001b[0;36m8888\u001b[0m\u001b[0;34m)\u001b[0m\u001b[0;34m\u001b[0m\u001b[0;34m\u001b[0m\u001b[0m\n\u001b[1;32m     18\u001b[0m     \u001b[0mclients\u001b[0m \u001b[0;34m=\u001b[0m \u001b[0;34m[\u001b[0m\u001b[0;34m]\u001b[0m\u001b[0;34m\u001b[0m\u001b[0;34m\u001b[0m\u001b[0m\n\u001b[0;32m---> 19\u001b[0;31m     \u001b[0msock\u001b[0m \u001b[0;34m=\u001b[0m \u001b[0mnew_listen_socket\u001b[0m\u001b[0;34m(\u001b[0m\u001b[0maddress\u001b[0m\u001b[0;34m)\u001b[0m\u001b[0;34m\u001b[0m\u001b[0;34m\u001b[0m\u001b[0m\n\u001b[0m\u001b[1;32m     20\u001b[0m \u001b[0;34m\u001b[0m\u001b[0m\n\u001b[1;32m     21\u001b[0m     \u001b[0;32mwhile\u001b[0m \u001b[0;32mTrue\u001b[0m\u001b[0;34m:\u001b[0m\u001b[0;34m\u001b[0m\u001b[0;34m\u001b[0m\u001b[0m\n",
      "\u001b[0;32m<ipython-input-11-db12b89d3c07>\u001b[0m in \u001b[0;36mnew_listen_socket\u001b[0;34m(address)\u001b[0m\n\u001b[1;32m      6\u001b[0m \u001b[0;32mdef\u001b[0m \u001b[0mnew_listen_socket\u001b[0m\u001b[0;34m(\u001b[0m\u001b[0maddress\u001b[0m\u001b[0;34m)\u001b[0m\u001b[0;34m:\u001b[0m\u001b[0;34m\u001b[0m\u001b[0;34m\u001b[0m\u001b[0m\n\u001b[1;32m      7\u001b[0m     \u001b[0msock\u001b[0m \u001b[0;34m=\u001b[0m \u001b[0msocket\u001b[0m\u001b[0;34m(\u001b[0m\u001b[0mAF_INET\u001b[0m\u001b[0;34m,\u001b[0m \u001b[0mSOCK_STREAM\u001b[0m\u001b[0;34m)\u001b[0m\u001b[0;34m\u001b[0m\u001b[0;34m\u001b[0m\u001b[0m\n\u001b[0;32m----> 8\u001b[0;31m     \u001b[0msock\u001b[0m\u001b[0;34m.\u001b[0m\u001b[0mbind\u001b[0m\u001b[0;34m(\u001b[0m\u001b[0maddress\u001b[0m\u001b[0;34m)\u001b[0m\u001b[0;34m\u001b[0m\u001b[0;34m\u001b[0m\u001b[0m\n\u001b[0m\u001b[1;32m      9\u001b[0m     \u001b[0msock\u001b[0m\u001b[0;34m.\u001b[0m\u001b[0mlisten\u001b[0m\u001b[0;34m(\u001b[0m\u001b[0;36m5\u001b[0m\u001b[0;34m)\u001b[0m\u001b[0;34m\u001b[0m\u001b[0;34m\u001b[0m\u001b[0m\n\u001b[1;32m     10\u001b[0m     \u001b[0msock\u001b[0m\u001b[0;34m.\u001b[0m\u001b[0msettimeout\u001b[0m\u001b[0;34m(\u001b[0m\u001b[0;36m0.2\u001b[0m\u001b[0;34m)\u001b[0m \u001b[0;31m# Таймаут для операций с сокетом\u001b[0m\u001b[0;34m\u001b[0m\u001b[0;34m\u001b[0m\u001b[0m\n",
      "\u001b[0;31mOSError\u001b[0m: [Errno 98] Address already in use"
     ]
    }
   ],
   "source": [
    "mainloop()"
   ]
  },
  {
   "cell_type": "code",
   "execution_count": 10,
   "metadata": {},
   "outputs": [
    {
     "ename": "KeyboardInterrupt",
     "evalue": "",
     "output_type": "error",
     "traceback": [
      "\u001b[0;31m---------------------------------------------------------------------------\u001b[0m",
      "\u001b[0;31mKeyboardInterrupt\u001b[0m                         Traceback (most recent call last)",
      "\u001b[0;32m<ipython-input-10-8e484b2ebcb3>\u001b[0m in \u001b[0;36m<module>\u001b[0;34m\u001b[0m\n\u001b[1;32m      6\u001b[0m \u001b[0;34m\u001b[0m\u001b[0m\n\u001b[1;32m      7\u001b[0m \u001b[0;32mwhile\u001b[0m \u001b[0;32mTrue\u001b[0m\u001b[0;34m:\u001b[0m\u001b[0;34m\u001b[0m\u001b[0;34m\u001b[0m\u001b[0m\n\u001b[0;32m----> 8\u001b[0;31m     \u001b[0mtm\u001b[0m \u001b[0;34m=\u001b[0m \u001b[0ms\u001b[0m\u001b[0;34m.\u001b[0m\u001b[0mrecv\u001b[0m\u001b[0;34m(\u001b[0m\u001b[0;36m1024\u001b[0m\u001b[0;34m)\u001b[0m\u001b[0;34m\u001b[0m\u001b[0;34m\u001b[0m\u001b[0m\n\u001b[0m\u001b[1;32m      9\u001b[0m     \u001b[0mprint\u001b[0m\u001b[0;34m(\u001b[0m\u001b[0;34m'Текущее время: %s'\u001b[0m \u001b[0;34m%\u001b[0m\u001b[0mtm\u001b[0m\u001b[0;34m.\u001b[0m\u001b[0mdecode\u001b[0m\u001b[0;34m(\u001b[0m\u001b[0mutf\u001b[0m\u001b[0;34m-\u001b[0m\u001b[0;36m8\u001b[0m\u001b[0;34m)\u001b[0m\u001b[0;34m)\u001b[0m\u001b[0;34m\u001b[0m\u001b[0;34m\u001b[0m\u001b[0m\n\u001b[1;32m     10\u001b[0m \u001b[0;34m\u001b[0m\u001b[0m\n",
      "\u001b[0;31mKeyboardInterrupt\u001b[0m: "
     ]
    }
   ],
   "source": [
    "# Клиент\n",
    "from socket import *\n",
    "\n",
    "s= socket(AF_INET, SOCK_STREAM)\n",
    "s.connect(('localhost', 8888))\n",
    "\n",
    "while True:\n",
    "    tm = s.recv(1024)\n",
    "    print('Текущее время: %s' %tm.decode(utf-8))\n",
    "\n",
    "#s.close()"
   ]
  },
  {
   "cell_type": "code",
   "execution_count": 13,
   "metadata": {},
   "outputs": [
    {
     "name": "stdout",
     "output_type": "stream",
     "text": [
      "Запустить 10 клиентов (s) / Закрыть клиентов (x) / Выйти (q)q\n"
     ]
    }
   ],
   "source": [
    "# создайм несколько клиентов\n",
    "from subprocess import Popen\n",
    "\n",
    "p_list = [] # Список клиентских процессов\n",
    "\n",
    "while True:\n",
    "    user = input('Запустить 10 клиентов (s) / Закрыть клиентов (x) / Выйти (q)')\n",
    "    if user == 'q':\n",
    "        break\n",
    "    elif user == 's':\n",
    "        for _ in range(10):\n",
    "            # флаг CREATE_NEW_CONSOLE нужен для OC Windows,\n",
    "            # чтобы каждый процесс запускался в отдельном окне консоли\n",
    "            p_list.append(Popen('pithon3 client.py', shell=True))\n",
    "            \n",
    "        print('Запущено 10 клиентов')\n",
    "    elif user == 'x':\n",
    "        for p in p_list:\n",
    "            p.kill()\n",
    "        p_list.clear()"
   ]
  },
  {
   "cell_type": "code",
   "execution_count": null,
   "metadata": {},
   "outputs": [],
   "source": []
  },
  {
   "cell_type": "code",
   "execution_count": 17,
   "metadata": {},
   "outputs": [
    {
     "ename": "ImportError",
     "evalue": "cannot import name 'AF_INETN' from 'socket' (/snap/jupyter/6/lib/python3.7/socket.py)",
     "output_type": "error",
     "traceback": [
      "\u001b[0;31m---------------------------------------------------------------------------\u001b[0m",
      "\u001b[0;31mImportError\u001b[0m                               Traceback (most recent call last)",
      "\u001b[0;32m<ipython-input-17-a30fcbe35535>\u001b[0m in \u001b[0;36m<module>\u001b[0;34m\u001b[0m\n\u001b[1;32m      1\u001b[0m \u001b[0;31m# Сервер2\u001b[0m\u001b[0;34m\u001b[0m\u001b[0;34m\u001b[0m\u001b[0;34m\u001b[0m\u001b[0m\n\u001b[1;32m      2\u001b[0m \u001b[0;32mimport\u001b[0m \u001b[0mselect\u001b[0m\u001b[0;34m\u001b[0m\u001b[0;34m\u001b[0m\u001b[0m\n\u001b[0;32m----> 3\u001b[0;31m \u001b[0;32mfrom\u001b[0m \u001b[0msocket\u001b[0m \u001b[0;32mimport\u001b[0m \u001b[0msocket\u001b[0m\u001b[0;34m,\u001b[0m \u001b[0mAF_INETN\u001b[0m\u001b[0;34m,\u001b[0m \u001b[0mSOCK_STREAM\u001b[0m\u001b[0;34m\u001b[0m\u001b[0;34m\u001b[0m\u001b[0m\n\u001b[0m\u001b[1;32m      4\u001b[0m \u001b[0;34m\u001b[0m\u001b[0m\n\u001b[1;32m      5\u001b[0m \u001b[0;32mdef\u001b[0m \u001b[0mread_requests\u001b[0m\u001b[0;34m(\u001b[0m\u001b[0mr_clients\u001b[0m\u001b[0;34m,\u001b[0m \u001b[0mall_clients\u001b[0m\u001b[0;34m)\u001b[0m\u001b[0;34m:\u001b[0m\u001b[0;34m\u001b[0m\u001b[0;34m\u001b[0m\u001b[0m\n",
      "\u001b[0;31mImportError\u001b[0m: cannot import name 'AF_INETN' from 'socket' (/snap/jupyter/6/lib/python3.7/socket.py)"
     ]
    }
   ],
   "source": [
    "# Сервер2\n",
    "import select\n",
    "from socket import socket, AF_INETN, SOCK_STREAM\n",
    "\n",
    "def read_requests(r_clients, all_clients):\n",
    "    '''чтение запросов из списка клиентов\n",
    "    '''\n",
    "    response = {}#Словарь ответов от сервера вида {Сокет: запрос}\n",
    "    \n",
    "    for sock in r_clients():\n",
    "        try:\n",
    "            data = sock.recv(1024).decode('utf-8')\n",
    "            response[sock] = data\n",
    "        except:\n",
    "            print('Клиент {} {} отключился'.format(sock.fileno(), sock.getpeername))\n",
    "            all_clients.remove(sock)\n",
    "            \n",
    "    return response\n",
    "\n",
    "\n",
    "def write_response(requests, w_clients, all_clients):\n",
    "    '''Эхо-ответ сервера клиентам, от которых были запросы\n",
    "    '''\n",
    "    \n",
    "    for sock in w_clients:\n",
    "        if sock in requests:\n",
    "            try:\n",
    "                # Подготовить и отправить ответ сервера\n",
    "                resp = requests[sock].encode('utf-8')\n",
    "                # Эхо-ответ сделаем чуть непохожим на оригинал\n",
    "                sock.send(resp.upper())\n",
    "            except:\n",
    "                print('Клиент {} {} отключился'.format(sock.fileno(), sock.getpeername))\n",
    "                sock.close()\n",
    "                all_clients.remove(sock)\n",
    "\n",
    "            \n",
    "\n",
    "def mainloop():\n",
    "    address = ('', 7777)\n",
    "    clients = []\n",
    "    s = socket(AF_INET, SOCK_STREAM)\n",
    "    \n",
    "    s.bind(address)\n",
    "    s.listen(5)\n",
    "    s.settimeout(0.2)\n",
    "    \n",
    "    while True:\n",
    "        try:\n",
    "            conn, addr = s.accept()\n",
    "        except OSError as e:\n",
    "                pass\n",
    "        else:\n",
    "            print('Получен запрос на соединение от %s'  %str(addr))\n",
    "            clients.append(conn)\n",
    "        finally:\n",
    "            wait = 10\n",
    "            r = []\n",
    "            w = []\n",
    "            try:\n",
    "                r,w,e = select.select(clients, clients, [], wait)\n",
    "            except:\n",
    "                pass\n",
    "            requests = read_requests(r, clients)\n",
    "            if requests:\n",
    "                write_response(requests, w, clients)\n",
    "            \n",
    "#if __name__ == '__main__':\n",
    "#    print('ехали')\n",
    "#    mainloop()"
   ]
  },
  {
   "cell_type": "code",
   "execution_count": 20,
   "metadata": {},
   "outputs": [],
   "source": [
    "# Клиент 2\n",
    "from socket import *\n",
    "from select import select\n",
    "import sys\n",
    "\n",
    "def echo_client(ADDRESS):\n",
    "    with socket(AF_INET, SOCK_STREAM) as sock:\n",
    "        sock.connect(ADDRESS)\n",
    "        while True:\n",
    "            msg = input('Ваше сообщение: ')\n",
    "            if msg == 'exit':\n",
    "                break\n",
    "            sock.send(msg.encode('utf-8'))\n",
    "            data = sock.recv(1024).decode('utf-8')\n",
    "            print('Ответ: ', data)\n",
    "            \n",
    "#if __name__ == '__main__':\n",
    "#    ADDRESS = ('localhost', 7777)\n",
    "#    echo_clients(ADDRESS)"
   ]
  },
  {
   "cell_type": "code",
   "execution_count": null,
   "metadata": {},
   "outputs": [],
   "source": []
  },
  {
   "cell_type": "code",
   "execution_count": null,
   "metadata": {},
   "outputs": [],
   "source": []
  },
  {
   "cell_type": "code",
   "execution_count": 21,
   "metadata": {},
   "outputs": [],
   "source": [
    "# СЛОТЫ"
   ]
  },
  {
   "cell_type": "code",
   "execution_count": 22,
   "metadata": {},
   "outputs": [],
   "source": [
    "class Test:\n",
    "    \n",
    "    def __init__(self, address, port) -> None:\n",
    "        self.address = address\n",
    "        self.port = port\n",
    "        \n",
    "        \n"
   ]
  },
  {
   "cell_type": "code",
   "execution_count": 24,
   "metadata": {},
   "outputs": [
    {
     "name": "stdout",
     "output_type": "stream",
     "text": [
      "<__main__.Test object at 0x7f2d431c3c50> ['__class__', '__delattr__', '__dict__', '__dir__', '__doc__', '__eq__', '__format__', '__ge__', '__getattribute__', '__gt__', '__hash__', '__init__', '__init_subclass__', '__le__', '__lt__', '__module__', '__ne__', '__new__', '__reduce__', '__reduce_ex__', '__repr__', '__setattr__', '__sizeof__', '__str__', '__subclasshook__', '__weakref__', 'address', 'port']\n"
     ]
    }
   ],
   "source": [
    "t = Test(12,2222)\n",
    "print(t, dir(t))"
   ]
  },
  {
   "cell_type": "code",
   "execution_count": 25,
   "metadata": {},
   "outputs": [],
   "source": [
    "t.x = 'x'"
   ]
  },
  {
   "cell_type": "code",
   "execution_count": 27,
   "metadata": {},
   "outputs": [
    {
     "data": {
      "text/plain": [
       "['__class__',\n",
       " '__delattr__',\n",
       " '__dict__',\n",
       " '__dir__',\n",
       " '__doc__',\n",
       " '__eq__',\n",
       " '__format__',\n",
       " '__ge__',\n",
       " '__getattribute__',\n",
       " '__gt__',\n",
       " '__hash__',\n",
       " '__init__',\n",
       " '__init_subclass__',\n",
       " '__le__',\n",
       " '__lt__',\n",
       " '__module__',\n",
       " '__ne__',\n",
       " '__new__',\n",
       " '__reduce__',\n",
       " '__reduce_ex__',\n",
       " '__repr__',\n",
       " '__setattr__',\n",
       " '__sizeof__',\n",
       " '__str__',\n",
       " '__subclasshook__',\n",
       " '__weakref__',\n",
       " 'address',\n",
       " 'port',\n",
       " 'x']"
      ]
     },
     "execution_count": 27,
     "metadata": {},
     "output_type": "execute_result"
    }
   ],
   "source": [
    "dir(t)"
   ]
  },
  {
   "cell_type": "code",
   "execution_count": 28,
   "metadata": {},
   "outputs": [
    {
     "data": {
      "text/plain": [
       "{'address': 12, 'port': 2222, 'x': 'x'}"
      ]
     },
     "execution_count": 28,
     "metadata": {},
     "output_type": "execute_result"
    }
   ],
   "source": [
    "t.__dict__"
   ]
  },
  {
   "cell_type": "code",
   "execution_count": 29,
   "metadata": {},
   "outputs": [],
   "source": [
    "def func(cls: Test):\n",
    "    print(cls.__dict__)"
   ]
  },
  {
   "cell_type": "code",
   "execution_count": 30,
   "metadata": {},
   "outputs": [
    {
     "name": "stdout",
     "output_type": "stream",
     "text": [
      "{'address': 12, 'port': 2222, 'x': 'x'}\n"
     ]
    }
   ],
   "source": [
    "func(t)"
   ]
  },
  {
   "cell_type": "code",
   "execution_count": 63,
   "metadata": {},
   "outputs": [],
   "source": [
    "class Short:\n",
    "    __slots__ = ('address', 'port')\n",
    "    def __init_(self, address, port) -> None:\n",
    "        self.address = address\n",
    "        self.port = port\n",
    "        \n",
    "def func(cls: Test):\n",
    "    print(cls.__dict__)\n",
    "    "
   ]
  },
  {
   "cell_type": "code",
   "execution_count": 65,
   "metadata": {},
   "outputs": [
    {
     "name": "stdout",
     "output_type": "stream",
     "text": [
      "<class '__main__.Short'> ['_Short__init_', '__class__', '__delattr__', '__dict__', '__dir__', '__doc__', '__eq__', '__format__', '__ge__', '__getattribute__', '__gt__', '__hash__', '__init__', '__init_subclass__', '__le__', '__lt__', '__module__', '__ne__', '__new__', '__reduce__', '__reduce_ex__', '__repr__', '__setattr__', '__sizeof__', '__str__', '__subclasshook__', '__weakref__'] {'__module__': '__main__', '_Short__init_': <function Short.__init_ at 0x7f2d415d1378>, '__dict__': <attribute '__dict__' of 'Short' objects>, '__weakref__': <attribute '__weakref__' of 'Short' objects>, '__doc__': None}\n"
     ]
    }
   ],
   "source": [
    "s = Short\n",
    "#s.x = 'x'\n",
    "print(s, dir(s), s.__dict__)"
   ]
  },
  {
   "cell_type": "code",
   "execution_count": 66,
   "metadata": {},
   "outputs": [
    {
     "name": "stdout",
     "output_type": "stream",
     "text": [
      "{'address': 12, 'port': 2222, 'x': 'x'}\n"
     ]
    }
   ],
   "source": [
    "func(t)"
   ]
  },
  {
   "cell_type": "code",
   "execution_count": 67,
   "metadata": {},
   "outputs": [
    {
     "name": "stdout",
     "output_type": "stream",
     "text": [
      "{'__module__': '__main__', '_Short__init_': <function Short.__init_ at 0x7f2d415d1378>, '__dict__': <attribute '__dict__' of 'Short' objects>, '__weakref__': <attribute '__weakref__' of 'Short' objects>, '__doc__': None}\n"
     ]
    }
   ],
   "source": [
    "func(s)"
   ]
  },
  {
   "cell_type": "code",
   "execution_count": null,
   "metadata": {},
   "outputs": [],
   "source": []
  },
  {
   "cell_type": "code",
   "execution_count": 27,
   "metadata": {},
   "outputs": [],
   "source": [
    "q = {}"
   ]
  },
  {
   "cell_type": "code",
   "execution_count": 28,
   "metadata": {},
   "outputs": [
    {
     "data": {
      "text/plain": [
       "[]"
      ]
     },
     "execution_count": 28,
     "metadata": {},
     "output_type": "execute_result"
    }
   ],
   "source": [
    "[*q.keys()]"
   ]
  },
  {
   "cell_type": "code",
   "execution_count": 14,
   "metadata": {},
   "outputs": [
    {
     "data": {
      "text/plain": [
       "'1'"
      ]
     },
     "execution_count": 14,
     "metadata": {},
     "output_type": "execute_result"
    }
   ],
   "source": [
    "str([*q.keys()][0])"
   ]
  },
  {
   "cell_type": "code",
   "execution_count": 16,
   "metadata": {},
   "outputs": [
    {
     "data": {
      "text/plain": [
       "1"
      ]
     },
     "execution_count": 16,
     "metadata": {},
     "output_type": "execute_result"
    }
   ],
   "source": [
    "[*q.keys()][0]"
   ]
  },
  {
   "cell_type": "code",
   "execution_count": 17,
   "metadata": {},
   "outputs": [
    {
     "data": {
      "text/plain": [
       "{2: 3}"
      ]
     },
     "execution_count": 17,
     "metadata": {},
     "output_type": "execute_result"
    }
   ],
   "source": [
    "q[[*q.keys()][0]]"
   ]
  },
  {
   "cell_type": "code",
   "execution_count": 18,
   "metadata": {},
   "outputs": [],
   "source": [
    "q = [1,2]"
   ]
  },
  {
   "cell_type": "code",
   "execution_count": 19,
   "metadata": {},
   "outputs": [
    {
     "data": {
      "text/plain": [
       "True"
      ]
     },
     "execution_count": 19,
     "metadata": {},
     "output_type": "execute_result"
    }
   ],
   "source": [
    "1 in q"
   ]
  },
  {
   "cell_type": "code",
   "execution_count": 29,
   "metadata": {},
   "outputs": [
    {
     "name": "stdout",
     "output_type": "stream",
     "text": [
      "no\n"
     ]
    }
   ],
   "source": [
    "if 2 not in q.keys():\n",
    "    print('no')\n",
    "else:\n",
    "    print('yes')"
   ]
  },
  {
   "cell_type": "code",
   "execution_count": null,
   "metadata": {},
   "outputs": [],
   "source": []
  }
 ],
 "metadata": {
  "kernelspec": {
   "display_name": "Python 3",
   "language": "python",
   "name": "python3"
  },
  "language_info": {
   "codemirror_mode": {
    "name": "ipython",
    "version": 3
   },
   "file_extension": ".py",
   "mimetype": "text/x-python",
   "name": "python",
   "nbconvert_exporter": "python",
   "pygments_lexer": "ipython3",
   "version": "3.7.3"
  }
 },
 "nbformat": 4,
 "nbformat_minor": 2
}
