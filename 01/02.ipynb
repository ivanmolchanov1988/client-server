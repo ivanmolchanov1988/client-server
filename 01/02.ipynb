{
 "cells": [
  {
   "cell_type": "code",
   "execution_count": 1,
   "metadata": {},
   "outputs": [
    {
     "data": {
      "text/plain": [
       "'\\nКаждое из слов \\n\\n\"class\"\\n\"function\"\\n\"method\"\\n\\nзаписать в байтовом типе без преобразования в последовательность кодов\\n(не используя методы encode и decode)\\nи определить тип, содержимое и длину соответствующих перемегнных.\\n'"
      ]
     },
     "execution_count": 1,
     "metadata": {},
     "output_type": "execute_result"
    }
   ],
   "source": [
    "'''\n",
    "Каждое из слов \n",
    "\n",
    "\"class\"\n",
    "\"function\"\n",
    "\"method\"\n",
    "\n",
    "записать в байтовом типе без преобразования в последовательность кодов\n",
    "(не используя методы encode и decode)\n",
    "и определить тип, содержимое и длину соответствующих перемегнных.\n",
    "'''"
   ]
  },
  {
   "cell_type": "code",
   "execution_count": 15,
   "metadata": {},
   "outputs": [],
   "source": [
    "listOne = [b'class',\n",
    "           b'function',\n",
    "           b'method',]"
   ]
  },
  {
   "cell_type": "code",
   "execution_count": 17,
   "metadata": {},
   "outputs": [],
   "source": [
    "listTwo = []\n",
    "for i in listOne:\n",
    "    listTwo.append(f'{i}')"
   ]
  },
  {
   "cell_type": "code",
   "execution_count": 24,
   "metadata": {},
   "outputs": [
    {
     "name": "stdout",
     "output_type": "stream",
     "text": [
      "b'class'\t-->\t<class 'str'>\tlen = 8\n",
      "b'function'\t-->\t<class 'str'>\tlen = 11\n",
      "b'method'\t-->\t<class 'str'>\tlen = 9\n"
     ]
    }
   ],
   "source": [
    "for ii in listTwo:\n",
    "    print(f'{ii}\\t-->\\t{type(ii)}\\tlen = {len(ii)}')"
   ]
  },
  {
   "cell_type": "code",
   "execution_count": null,
   "metadata": {},
   "outputs": [],
   "source": []
  },
  {
   "cell_type": "code",
   "execution_count": null,
   "metadata": {},
   "outputs": [],
   "source": []
  }
 ],
 "metadata": {
  "kernelspec": {
   "display_name": "Python 3",
   "language": "python",
   "name": "python3"
  },
  "language_info": {
   "codemirror_mode": {
    "name": "ipython",
    "version": 3
   },
   "file_extension": ".py",
   "mimetype": "text/x-python",
   "name": "python",
   "nbconvert_exporter": "python",
   "pygments_lexer": "ipython3",
   "version": "3.7.3"
  }
 },
 "nbformat": 4,
 "nbformat_minor": 2
}
