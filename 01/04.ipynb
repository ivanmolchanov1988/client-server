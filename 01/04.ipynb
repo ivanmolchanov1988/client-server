{
 "cells": [
  {
   "cell_type": "code",
   "execution_count": null,
   "metadata": {},
   "outputs": [],
   "source": [
    "'''\n",
    "Преобразовать слова \n",
    "\n",
    "«разработка», \n",
    "«администрирование», \n",
    "«protocol», \n",
    "«standard»\n",
    "\n",
    "из строкового представления в байтовое \n",
    "и выполнить обратное преобразование \n",
    "(используя методы encode и decode).\n",
    "'''"
   ]
  },
  {
   "cell_type": "code",
   "execution_count": 1,
   "metadata": {},
   "outputs": [],
   "source": [
    "listOne = ['разработка',\n",
    "          'администрирование',\n",
    "          'protocol',\n",
    "          'standard',]"
   ]
  },
  {
   "cell_type": "code",
   "execution_count": 3,
   "metadata": {},
   "outputs": [
    {
     "name": "stdout",
     "output_type": "stream",
     "text": [
      "b'\\xd1\\x80\\xd0\\xb0\\xd0\\xb7\\xd1\\x80\\xd0\\xb0\\xd0\\xb1\\xd0\\xbe\\xd1\\x82\\xd0\\xba\\xd0\\xb0'\n",
      "b'\\xd0\\xb0\\xd0\\xb4\\xd0\\xbc\\xd0\\xb8\\xd0\\xbd\\xd0\\xb8\\xd1\\x81\\xd1\\x82\\xd1\\x80\\xd0\\xb8\\xd1\\x80\\xd0\\xbe\\xd0\\xb2\\xd0\\xb0\\xd0\\xbd\\xd0\\xb8\\xd0\\xb5'\n",
      "b'protocol'\n",
      "b'standard'\n"
     ]
    }
   ],
   "source": [
    "listTwo = []\n",
    "for i in listOne:\n",
    "    result = i.encode('utf-8')\n",
    "    listTwo.append(result)\n",
    "    print(result)"
   ]
  },
  {
   "cell_type": "code",
   "execution_count": 4,
   "metadata": {},
   "outputs": [
    {
     "name": "stdout",
     "output_type": "stream",
     "text": [
      "разработка\n",
      "администрирование\n",
      "protocol\n",
      "standard\n"
     ]
    }
   ],
   "source": [
    "for i in listTwo:\n",
    "    result = i.decode('utf-8')\n",
    "    print(result)"
   ]
  },
  {
   "cell_type": "code",
   "execution_count": null,
   "metadata": {},
   "outputs": [],
   "source": []
  }
 ],
 "metadata": {
  "kernelspec": {
   "display_name": "Python 3",
   "language": "python",
   "name": "python3"
  },
  "language_info": {
   "codemirror_mode": {
    "name": "ipython",
    "version": 3
   },
   "file_extension": ".py",
   "mimetype": "text/x-python",
   "name": "python",
   "nbconvert_exporter": "python",
   "pygments_lexer": "ipython3",
   "version": "3.7.3"
  }
 },
 "nbformat": 4,
 "nbformat_minor": 2
}
