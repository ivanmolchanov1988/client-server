{
 "cells": [
  {
   "cell_type": "code",
   "execution_count": null,
   "metadata": {},
   "outputs": [],
   "source": [
    "'''\n",
    "Каждое из слов\n",
    "\n",
    "\"разработка\", \n",
    "\"сокет\", \n",
    "\"декоратор\"\n",
    "\n",
    "представить в строковом формате и проверить тип и содержание соответствующих переменных.\n",
    "Затем, с помощью онлайн-конвертора, преобразовать строковые представления в формат Unicode \n",
    "и также проверить тип и содержание переменных.\n",
    "\n",
    "'''"
   ]
  },
  {
   "cell_type": "code",
   "execution_count": 26,
   "metadata": {},
   "outputs": [],
   "source": [
    "listOne = ['разработка', \n",
    "           'сокет', \n",
    "           'декоратор']\n",
    "listTwo = ['\\u0440\\u0430\\u0437\\u0440\\u0430\\u0431\\u043e\\u0442\\u043a\\u0430', \n",
    "           '\\u0441\\u043e\\u043a\\u0435\\u0442', \n",
    "           '\\u0434\\u0435\\u043a\\u043e\\u0440\\u0430\\u0442\\u043e\\u0440']"
   ]
  },
  {
   "cell_type": "code",
   "execution_count": 27,
   "metadata": {},
   "outputs": [
    {
     "name": "stdout",
     "output_type": "stream",
     "text": [
      "разработка\t--> Тип: <class 'str'>\n",
      "сокет\t\t--> Тип: <class 'str'>\n",
      "декоратор\t--> Тип: <class 'str'>\n"
     ]
    }
   ],
   "source": [
    "tab = '\\t'\n",
    "for i in listOne:\n",
    "    if len(i) > 7:\n",
    "        print(f'{i}{tab}--> Тип: {type(i)}')\n",
    "    else:\n",
    "        print(f'{i}{tab*2}--> Тип: {type(i)}')"
   ]
  },
  {
   "cell_type": "code",
   "execution_count": 43,
   "metadata": {},
   "outputs": [
    {
     "name": "stdout",
     "output_type": "stream",
     "text": [
      "разработка\t--> Тип: <class 'str'>\n",
      "сокет\t\t--> Тип: <class 'str'>\n",
      "декоратор\t--> Тип: <class 'str'>\n"
     ]
    }
   ],
   "source": [
    "for ii in listTwo:\n",
    "    if len(ii) >7:\n",
    "        print(f'{ii}{tab}--> Тип: {type(ii)}')\n",
    "    else:\n",
    "        print(f'{ii}{tab*2}--> Тип: {type(ii)}')"
   ]
  },
  {
   "cell_type": "code",
   "execution_count": null,
   "metadata": {},
   "outputs": [],
   "source": []
  },
  {
   "cell_type": "code",
   "execution_count": null,
   "metadata": {},
   "outputs": [],
   "source": []
  },
  {
   "cell_type": "code",
   "execution_count": null,
   "metadata": {},
   "outputs": [],
   "source": []
  }
 ],
 "metadata": {
  "kernelspec": {
   "display_name": "Python 3",
   "language": "python",
   "name": "python3"
  },
  "language_info": {
   "codemirror_mode": {
    "name": "ipython",
    "version": 3
   },
   "file_extension": ".py",
   "mimetype": "text/x-python",
   "name": "python",
   "nbconvert_exporter": "python",
   "pygments_lexer": "ipython3",
   "version": "3.7.3"
  }
 },
 "nbformat": 4,
 "nbformat_minor": 2
}
