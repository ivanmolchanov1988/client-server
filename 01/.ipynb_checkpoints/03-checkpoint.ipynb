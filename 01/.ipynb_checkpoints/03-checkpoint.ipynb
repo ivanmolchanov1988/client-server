{
 "cells": [
  {
   "cell_type": "code",
   "execution_count": null,
   "metadata": {},
   "outputs": [],
   "source": [
    "'''\n",
    "Определить, какие из слов\n",
    "\n",
    "\"attribute\"\n",
    "\"класс\"\n",
    "\"функция\"\n",
    "\"type\"\n",
    "\n",
    "невозможно записать в байтовом типе\n",
    "\n",
    "'''"
   ]
  },
  {
   "cell_type": "code",
   "execution_count": 3,
   "metadata": {},
   "outputs": [],
   "source": [
    "listOne = ['attribute',\n",
    "           'класс',\n",
    "           'функция',\n",
    "           'type',]"
   ]
  },
  {
   "cell_type": "code",
   "execution_count": 16,
   "metadata": {},
   "outputs": [
    {
     "name": "stdout",
     "output_type": "stream",
     "text": [
      "b'attribute'\n",
      "класс\t невозможно привести к байтовому виду (если не utf-8)\n",
      "функция\t невозможно привести к байтовому виду (если не utf-8)\n",
      "b'type'\n"
     ]
    }
   ],
   "source": [
    "result = ''\n",
    "for i in listOne:\n",
    "    try:\n",
    "        result = i.encode('ascii')\n",
    "    except:\n",
    "        result = f'{i}\\t невозможно привести к байтовому виду (если не utf-8)'\n",
    "    print(result)"
   ]
  },
  {
   "cell_type": "code",
   "execution_count": null,
   "metadata": {},
   "outputs": [],
   "source": []
  },
  {
   "cell_type": "code",
   "execution_count": null,
   "metadata": {},
   "outputs": [],
   "source": []
  }
 ],
 "metadata": {
  "kernelspec": {
   "display_name": "Python 3",
   "language": "python",
   "name": "python3"
  },
  "language_info": {
   "codemirror_mode": {
    "name": "ipython",
    "version": 3
   },
   "file_extension": ".py",
   "mimetype": "text/x-python",
   "name": "python",
   "nbconvert_exporter": "python",
   "pygments_lexer": "ipython3",
   "version": "3.7.3"
  }
 },
 "nbformat": 4,
 "nbformat_minor": 2
}
