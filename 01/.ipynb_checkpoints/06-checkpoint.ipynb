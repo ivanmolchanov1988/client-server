{
 "cells": [
  {
   "cell_type": "code",
   "execution_count": null,
   "metadata": {},
   "outputs": [],
   "source": [
    "'''\n",
    "Создать текстовый файл test_file.txt, \n",
    "заполнить его тремя строками: \n",
    "\n",
    "«сетевое программирование», \n",
    "«сокет», \n",
    "«декоратор». \n",
    "\n",
    "Проверить кодировку файла по умолчанию. \n",
    "Принудительно открыть файл в формате Unicode и вывести его содержимое.\n",
    "'''"
   ]
  },
  {
   "cell_type": "code",
   "execution_count": 1,
   "metadata": {},
   "outputs": [],
   "source": [
    "listOne = [\n",
    "    'сетевое программирование',\n",
    "    'сокет',\n",
    "    'декоратор',\n",
    "]"
   ]
  },
  {
   "cell_type": "code",
   "execution_count": 2,
   "metadata": {},
   "outputs": [],
   "source": [
    "with open('test_file.txt', 'w') as f:\n",
    "    for i in listOne:\n",
    "        f.write(f'{i}\\n')"
   ]
  },
  {
   "cell_type": "code",
   "execution_count": 5,
   "metadata": {},
   "outputs": [
    {
     "name": "stdout",
     "output_type": "stream",
     "text": [
      "<_io.TextIOWrapper name='test_file.txt' mode='r' encoding='UTF-8'>\n"
     ]
    }
   ],
   "source": [
    "with open('test_file.txt', 'r') as f:\n",
    "    print(f)"
   ]
  },
  {
   "cell_type": "code",
   "execution_count": 9,
   "metadata": {},
   "outputs": [
    {
     "name": "stdout",
     "output_type": "stream",
     "text": [
      "сетевое программирование\n",
      "\n",
      "сокет\n",
      "\n",
      "декоратор\n",
      "\n"
     ]
    }
   ],
   "source": [
    "with open('test_file.txt', 'r', encoding='utf-8') as f:\n",
    "    for i in f:\n",
    "        print(i)\n",
    "### так он же и так в юникоде поумолчанию..."
   ]
  },
  {
   "cell_type": "code",
   "execution_count": null,
   "metadata": {},
   "outputs": [],
   "source": []
  }
 ],
 "metadata": {
  "kernelspec": {
   "display_name": "Python 3",
   "language": "python",
   "name": "python3"
  },
  "language_info": {
   "codemirror_mode": {
    "name": "ipython",
    "version": 3
   },
   "file_extension": ".py",
   "mimetype": "text/x-python",
   "name": "python",
   "nbconvert_exporter": "python",
   "pygments_lexer": "ipython3",
   "version": "3.7.3"
  }
 },
 "nbformat": 4,
 "nbformat_minor": 2
}
