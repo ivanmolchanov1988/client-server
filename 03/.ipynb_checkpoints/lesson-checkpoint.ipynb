{
 "cells": [
  {
   "cell_type": "code",
   "execution_count": null,
   "metadata": {},
   "outputs": [],
   "source": [
    "'''\n",
    "1. клиент энкодит (utf-8) сообщение, формирует пакеты и отправляет на сервер;\n",
    "2. сервер получает пакеты, декодит сообщение (utf-8) и отправляет подтверждение ({'status': 200, 'text': text,})\n",
    "3. ...\n",
    "'''"
   ]
  },
  {
   "cell_type": "code",
   "execution_count": null,
   "metadata": {},
   "outputs": [],
   "source": [
    "'''\n",
    "Сервер общается с клиентами через Сокеты.\n",
    "Для каждого клиента у сервера есть отдельный сокет.\n",
    "У всех сокетов есть один общий родительский сокет.\n",
    "\n",
    "На клиентах тоже есть сокеты.\n",
    "Общение клиент-сервер, фактически, - это общение двух сокетов.\n",
    "'''"
   ]
  },
  {
   "cell_type": "code",
   "execution_count": null,
   "metadata": {},
   "outputs": [],
   "source": [
    "'''\n",
    "\n",
    "'''\n",
    "\n"
   ]
  },
  {
   "cell_type": "code",
   "execution_count": null,
   "metadata": {},
   "outputs": [],
   "source": [
    "# SERVER 1 TCP\n",
    "\n",
    "from socket import *\n",
    "import time\n",
    "\n",
    "s = socket(AF_INET, SOCK_STREAM) # создаём сокет TCP\n",
    "s.bind(('localhost', 8888))               # Присваиваем порт 8888\n",
    "s.listen(5)                      # Переходим в режим ожидания запросов\n",
    "                                   # однавременно обслуживается не более 5 клиентов\n",
    "while True:\n",
    "    client, addr = s.accept()   # Принять запрос на соединение\n",
    "    print('Получен запорс на соединение от %s' % str(addr))\n",
    "    timestr = time.ctime(time.time()) + '\\n'\n",
    "    client.send(timestr.encode('ascii'))\n",
    "    client.close();"
   ]
  },
  {
   "cell_type": "code",
   "execution_count": null,
   "metadata": {},
   "outputs": [],
   "source": [
    "#CLIENT 1 TCP\n",
    "\n",
    "from socket import *\n",
    "\n",
    "s = socket(AF_INET, SOCK_STREAM)  # создадим сокет TCP\n",
    "s.connect(('localhost', 8888))    # соединение с сервером\n",
    "tm = s.recv(1024)                 # Принимать не более 1024 байтов данных\n",
    "s.close()\n",
    "print('Текущее время; %s' % tm.decode('ascii'))"
   ]
  },
  {
   "cell_type": "code",
   "execution_count": null,
   "metadata": {},
   "outputs": [],
   "source": []
  },
  {
   "cell_type": "code",
   "execution_count": null,
   "metadata": {},
   "outputs": [],
   "source": [
    "# SERVER 2 TCP\n",
    "\n",
    "from socket import *\n",
    "import time\n",
    "\n",
    "s = socket(AF_INET, SOCK_STREAM) # создаём сокет TCP\n",
    "s.bind(('localhost', 8888))               # Присваиваем порт 8888\n",
    "s.listen(5)                      # Переходим в режим ожидания запросов\n",
    "                                   # однавременно обслуживается не более 5 клиентов\n",
    "while True:\n",
    "    client, addr = s.accept()   # Принять запрос на соединение\n",
    "    data = client.recv(1024)\n",
    "    msg = 'Привет, клиент!'\n",
    "    client.send(msg.encode('utf-8'))\n",
    "    client.close();"
   ]
  },
  {
   "cell_type": "code",
   "execution_count": null,
   "metadata": {},
   "outputs": [],
   "source": [
    "#CLIENT 2 TCP\n",
    "\n",
    "from socket import *\n",
    "\n",
    "s = socket(AF_INET, SOCK_STREAM)  # создадим сокет TCP\n",
    "s.connect(('localhost', 8888))    # соединение с сервером\n",
    "msg = 'Привет, сервер!'\n",
    "s.send(msg.encode('utf-8'))\n",
    "data = s.recv(1024)\n",
    "print('Сообщение от сервера: ', data.decode('utf-8'), ', длиной ', len(data))\n",
    "s.close()"
   ]
  },
  {
   "cell_type": "code",
   "execution_count": null,
   "metadata": {},
   "outputs": [],
   "source": []
  },
  {
   "cell_type": "code",
   "execution_count": null,
   "metadata": {},
   "outputs": [],
   "source": [
    "# SERVER 3 UDP (Широко-вещательнвый пакет)\n",
    "\n",
    "from socket import *\n",
    "\n",
    "s = socket(AF_INET, SOCK_STREAM)\n",
    "s.setsockopt(SOL_SOCKET, SO_REUSEADDR, 1) # Несколько приложений может слушать\n",
    "s.setsockopt(SOL_SOCKET, SO_BROADCAST, 1) # Определяет широковещательные пакеты\n",
    "s.bind(('', 8888))\n",
    "\n",
    "while True:\n",
    "    msg = s.recv(128)\n",
    "    print(msg)"
   ]
  },
  {
   "cell_type": "code",
   "execution_count": null,
   "metadata": {},
   "outputs": [],
   "source": [
    "# CLIENT 3 UDP (Широко-вещательнвый пакет)\n",
    "\n",
    "from socket import *\n",
    "s = s = socket(AF_INET, SOCK_DGRAM)\n",
    "s.setsockopt(SOL_SOCKET, SO_BROADCAST, 1)\n",
    "\n",
    "while True:\n",
    "    s.sendto(bytes('Запрос на соединение', 'utf-8'), ('', 8888))"
   ]
  },
  {
   "cell_type": "code",
   "execution_count": null,
   "metadata": {},
   "outputs": [],
   "source": []
  },
  {
   "cell_type": "code",
   "execution_count": 16,
   "metadata": {},
   "outputs": [
    {
     "name": "stdout",
     "output_type": "stream",
     "text": [
      "Collecting eventlet\n",
      "\u001b[?25l  Downloading https://files.pythonhosted.org/packages/2f/75/c9c27956f0fb9c40b18bc686227e6df64a40484b78cc7f62fee9a7203ecf/eventlet-0.31.0-py2.py3-none-any.whl (224kB)\n",
      "\u001b[K     |████████████████████████████████| 225kB 1.3MB/s eta 0:00:01\n",
      "\u001b[?25hRequirement already satisfied: six>=1.10.0 in /snap/jupyter/6/lib/python3.7/site-packages (from eventlet) (1.12.0)\n",
      "Collecting greenlet>=0.3 (from eventlet)\n",
      "\u001b[?25l  Downloading https://files.pythonhosted.org/packages/c6/25/f52f0dde4135833c2f85eae30a749d260231065b46942534df8366d7e1ec/greenlet-1.0.0-cp37-cp37m-manylinux2010_x86_64.whl (160kB)\n",
      "\u001b[K     |████████████████████████████████| 163kB 12.1MB/s eta 0:00:01\n",
      "\u001b[?25hCollecting dnspython<2.0.0,>=1.15.0 (from eventlet)\n",
      "\u001b[?25l  Downloading https://files.pythonhosted.org/packages/ec/d3/3aa0e7213ef72b8585747aa0e271a9523e713813b9a20177ebe1e939deb0/dnspython-1.16.0-py2.py3-none-any.whl (188kB)\n",
      "\u001b[K     |████████████████████████████████| 194kB 14.4MB/s eta 0:00:01\n",
      "\u001b[?25hInstalling collected packages: greenlet, dnspython, eventlet\n",
      "Successfully installed dnspython-1.16.0 eventlet-0.31.0 greenlet-1.0.0\n"
     ]
    }
   ],
   "source": [
    "# АСИНХРОННО\n",
    "\n",
    "!pip install eventlet"
   ]
  },
  {
   "cell_type": "code",
   "execution_count": 20,
   "metadata": {},
   "outputs": [
    {
     "name": "stdout",
     "output_type": "stream",
     "text": [
      "Collecting python-socketio\n",
      "\u001b[?25l  Downloading https://files.pythonhosted.org/packages/52/87/4503777f71dc2b125b18c43989d0afdf0e7306d0d8682ec6691209cc9329/python_socketio-5.2.1-py2.py3-none-any.whl (53kB)\n",
      "\u001b[K     |████████████████████████████████| 61kB 1.3MB/s eta 0:00:01\n",
      "\u001b[?25hCollecting bidict>=0.21.0 (from python-socketio)\n",
      "  Downloading https://files.pythonhosted.org/packages/67/d4/eaf9242722bf991e0955380dd6168020cb15a71cc0d3cc2373f4911b1f1d/bidict-0.21.2-py2.py3-none-any.whl\n",
      "Collecting python-engineio>=4.1.0 (from python-socketio)\n",
      "\u001b[?25l  Downloading https://files.pythonhosted.org/packages/46/f6/9515c8357935d4fe58b526ab5b4857245948fa1b5f607cf63d4663cce5c2/python_engineio-4.1.0-py2.py3-none-any.whl (51kB)\n",
      "\u001b[K     |████████████████████████████████| 61kB 5.2MB/s eta 0:00:01\n",
      "\u001b[?25hInstalling collected packages: bidict, python-engineio, python-socketio\n",
      "Successfully installed bidict-0.21.2 python-engineio-4.1.0 python-socketio-5.2.1\n"
     ]
    }
   ],
   "source": [
    "! pip install python-socketio"
   ]
  },
  {
   "cell_type": "code",
   "execution_count": 19,
   "metadata": {},
   "outputs": [
    {
     "ename": "ModuleNotFoundError",
     "evalue": "No module named 'socketio'",
     "output_type": "error",
     "traceback": [
      "\u001b[0;31m---------------------------------------------------------------------------\u001b[0m",
      "\u001b[0;31mModuleNotFoundError\u001b[0m                       Traceback (most recent call last)",
      "\u001b[0;32m<ipython-input-19-f54b8ffecb11>\u001b[0m in \u001b[0;36m<module>\u001b[0;34m\u001b[0m\n\u001b[0;32m----> 1\u001b[0;31m \u001b[0;32mimport\u001b[0m \u001b[0msocketio\u001b[0m\u001b[0;34m\u001b[0m\u001b[0;34m\u001b[0m\u001b[0m\n\u001b[0m",
      "\u001b[0;31mModuleNotFoundError\u001b[0m: No module named 'socketio'"
     ]
    }
   ],
   "source": [
    "# SERVER 4\n",
    "import eventlet\n",
    "import socketio\n",
    "\n",
    "sio = socketio.Server()\n",
    "app = socketio.WSGIApp(sio, static_files={\n",
    "    '/':{'content_type': 'text/html', 'filename': 'index.html'}\n",
    "})\n",
    "\n",
    "@sio.event\n",
    "def connect(sid, environ):\n",
    "    print('connect', sid)\n",
    "    \n",
    "\n",
    "# @sio.event\n",
    "# def my_message(sid, data):\n",
    "#     print('message '. data)\n",
    "    \n",
    "    \n",
    "@sio.event\n",
    "def disconnect(sid):\n",
    "    print('disconnect', sid)\n",
    "    \n",
    "\n",
    "@sio.event\n",
    "def handle_message(message):\n",
    "    print('received message', message)\n",
    "    \n",
    "\n",
    "if __name__ == '__main__':\n",
    "    eventlet.wsgigi.server(eventlet.listen(('', 8888)), app)"
   ]
  },
  {
   "cell_type": "code",
   "execution_count": null,
   "metadata": {},
   "outputs": [],
   "source": [
    "# CLIENT 4\n",
    "import socketio\n",
    "\n",
    "sio = socketio.Client()\n",
    "\n",
    "@sio.event\n",
    "def connect():\n",
    "    print('connection established')\n",
    "    \n",
    "@sio.event\n",
    "def my_message(data):\n",
    "    print('messge received with', data)\n",
    "    sio.emit('my response', {'responce': 'my response'})\n",
    "    \n",
    "@sio.event\n",
    "def disconnect():\n",
    "    print('disconnected from server')\n",
    "    \n",
    "sio.connect('http://localhost:8888')\n",
    "sio.wait()"
   ]
  },
  {
   "cell_type": "code",
   "execution_count": null,
   "metadata": {},
   "outputs": [],
   "source": [
    "# CLIENT 4.1\n",
    "import socketio\n",
    "\n",
    "sio = socketio.Client()\n",
    "\n",
    "@sio.event\n",
    "def connect():\n",
    "    print('connection established')\n",
    "    \n",
    "@sio.event\n",
    "def my_message(data):\n",
    "    print('messge received with', data)\n",
    "    sio.emit('my response', {'responce': 'my response'})\n",
    "    \n",
    "@sio.event\n",
    "def disconnect():\n",
    "    print('disconnected from server')\n",
    "    \n",
    "sio.connect('http://localhost:8888')\n",
    "#sio.wait()\n",
    "sio.emit('my_messge', {'helllo': 'world'}) # 1 - Функция(сервер), отвечающая за принятие данных"
   ]
  },
  {
   "cell_type": "code",
   "execution_count": null,
   "metadata": {},
   "outputs": [],
   "source": []
  },
  {
   "cell_type": "code",
   "execution_count": null,
   "metadata": {},
   "outputs": [],
   "source": [
    "#ДЗ"
   ]
  },
  {
   "cell_type": "code",
   "execution_count": null,
   "metadata": {},
   "outputs": [],
   "source": [
    "# SERVER 2 TCP\n",
    "\n",
    "from socket import *\n",
    "import time\n",
    "import pickle\n",
    "\n",
    "s = socket(AF_INET, SOCK_STREAM) # создаём сокет TCP\n",
    "s.bind(('', 8888))               # Присваиваем порт 8888\n",
    "s.listen(5)                      # Переходим в режим ожидания запросов\n",
    "                                   # однавременно обслуживается не более 5 клиентов\n",
    "while True:\n",
    "    client, addr = s.accept()   # Принять запрос на соединение\n",
    "    data = client.recv(1024)\n",
    "    print(pickle.loads(data))\n",
    "    responce = {\n",
    "        'responce': 200,\n",
    "        'alert': 'Необязательное сообщение/ уведомление'\n",
    "    }\n",
    "    client.send(pickle.dumps(responce))\n",
    "    client.close();"
   ]
  },
  {
   "cell_type": "code",
   "execution_count": null,
   "metadata": {},
   "outputs": [],
   "source": [
    "#CLIENT 2 TCP\n",
    "\n",
    "from socket import *\n",
    "import pickle\n",
    "\n",
    "s = socket(AF_INET, SOCK_STREAM)  # создадим сокет TCP\n",
    "s.connect(('localhost', 8888))    # соединение с сервером\n",
    "msg = {\n",
    "    'action': 'authenticate',\n",
    "    'time': '<unix timestamp>',\n",
    "    'user': {\n",
    "        'account_name': 'IVAN',\n",
    "        'passwod': 'password000'\n",
    "    }\n",
    "}\n",
    "s.send(pickle.dumps(msg))\n",
    "data = s.recv(1024)\n",
    "print('Сообщение от сервера: ', pickle.loads(data), ', длиной ', len(data))\n",
    "s.close()"
   ]
  }
 ],
 "metadata": {
  "kernelspec": {
   "display_name": "Python 3",
   "language": "python",
   "name": "python3"
  },
  "language_info": {
   "codemirror_mode": {
    "name": "ipython",
    "version": 3
   },
   "file_extension": ".py",
   "mimetype": "text/x-python",
   "name": "python",
   "nbconvert_exporter": "python",
   "pygments_lexer": "ipython3",
   "version": "3.7.3"
  }
 },
 "nbformat": 4,
 "nbformat_minor": 2
}
